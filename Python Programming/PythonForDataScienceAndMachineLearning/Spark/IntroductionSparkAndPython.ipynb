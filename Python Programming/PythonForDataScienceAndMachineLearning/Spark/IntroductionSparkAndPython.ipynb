{
 "cells": [
  {
   "cell_type": "code",
   "execution_count": 1,
   "id": "77836603-6b17-46e4-a2d7-b68157e37052",
   "metadata": {},
   "outputs": [],
   "source": [
    "from pyspark import SparkContext"
   ]
  },
  {
   "cell_type": "code",
   "execution_count": null,
   "id": "08b0742d-749d-498c-9dbf-d3f6e3c99e0f",
   "metadata": {},
   "outputs": [],
   "source": [
    "sc= SparkContext()"
   ]
  },
  {
   "cell_type": "code",
   "execution_count": null,
   "id": "4bc15e4d-3f7b-425f-b66b-d1fd22f9743d",
   "metadata": {},
   "outputs": [],
   "source": [
    "Use Jupyter magic to create a sample text file\n",
    "%%writefile example.txt\n",
    "first line\n",
    "second line\n",
    "third line\n",
    "fourth line"
   ]
  },
  {
   "cell_type": "code",
   "execution_count": null,
   "id": "a910da54-5054-4538-83a9-a5c52d4d9648",
   "metadata": {},
   "outputs": [],
   "source": [
    "textFile = sc.textFile ('example.txt')"
   ]
  },
  {
   "cell_type": "code",
   "execution_count": null,
   "id": "e3668f77-7caf-47d7-8fb9-86e08623a062",
   "metadata": {},
   "outputs": [],
   "source": [
    "textFile.count()\n",
    "#4"
   ]
  },
  {
   "cell_type": "code",
   "execution_count": null,
   "id": "3b4af1e5-e756-4b91-88b2-0fa202e4bf64",
   "metadata": {},
   "outputs": [],
   "source": [
    "textFile.first()\n",
    "#'first line'"
   ]
  },
  {
   "cell_type": "code",
   "execution_count": null,
   "id": "8b883ceb-562a-4d7f-970b-d021cecae730",
   "metadata": {},
   "outputs": [],
   "source": [
    "secfind = textFile.fileter(lambda line: 'second' in line)"
   ]
  },
  {
   "cell_type": "code",
   "execution_count": null,
   "id": "7d6da853-86e1-49c1-8b97-e36f7220b93e",
   "metadata": {},
   "outputs": [],
   "source": [
    "secfind\n",
    "#PythonRDD[4] at RDD at PythonRDD.scala:43"
   ]
  },
  {
   "cell_type": "code",
   "execution_count": null,
   "id": "0046f15c-81be-49aa-8e72-556684737c37",
   "metadata": {},
   "outputs": [],
   "source": [
    "secfind.collect()\n",
    "#['second line']"
   ]
  },
  {
   "cell_type": "code",
   "execution_count": null,
   "id": "887f326d-e36c-4a49-ae79-4beb6b443558",
   "metadata": {},
   "outputs": [],
   "source": [
    "secfind.count()\n",
    "#1"
   ]
  },
  {
   "cell_type": "code",
   "execution_count": null,
   "id": "d2c1e6e9-57d3-41a8-9331-9f29eaced5b3",
   "metadata": {},
   "outputs": [],
   "source": []
  }
 ],
 "metadata": {
  "kernelspec": {
   "display_name": "Python 3 (ipykernel)",
   "language": "python",
   "name": "python3"
  },
  "language_info": {
   "codemirror_mode": {
    "name": "ipython",
    "version": 3
   },
   "file_extension": ".py",
   "mimetype": "text/x-python",
   "name": "python",
   "nbconvert_exporter": "python",
   "pygments_lexer": "ipython3",
   "version": "3.13.5"
  }
 },
 "nbformat": 4,
 "nbformat_minor": 5
}
