{
 "cells": [
  {
   "cell_type": "markdown",
   "id": "2870a3bc-f71e-40d2-a6ca-8ac736441ccb",
   "metadata": {},
   "source": [
    "Numbers, Integers and Floats"
   ]
  },
  {
   "cell_type": "code",
   "execution_count": 8,
   "id": "fa69cabb-8d86-4fad-83db-95b9f2f78a6c",
   "metadata": {},
   "outputs": [
    {
     "data": {
      "text/plain": [
       "1"
      ]
     },
     "execution_count": 8,
     "metadata": {},
     "output_type": "execute_result"
    }
   ],
   "source": [
    "1"
   ]
  },
  {
   "cell_type": "code",
   "execution_count": 2,
   "id": "bd71c14e-d8a1-4e33-b382-478fd900b9e0",
   "metadata": {},
   "outputs": [
    {
     "data": {
      "text/plain": [
       "1.0"
      ]
     },
     "execution_count": 2,
     "metadata": {},
     "output_type": "execute_result"
    }
   ],
   "source": [
    "1.0"
   ]
  },
  {
   "cell_type": "code",
   "execution_count": 3,
   "id": "19477138-a137-4aac-acf2-6adf2f7be02a",
   "metadata": {},
   "outputs": [
    {
     "data": {
      "text/plain": [
       "2"
      ]
     },
     "execution_count": 3,
     "metadata": {},
     "output_type": "execute_result"
    }
   ],
   "source": [
    "1+1"
   ]
  },
  {
   "cell_type": "code",
   "execution_count": 4,
   "id": "fbb3a51e-e840-46c4-97b7-5eb951be639c",
   "metadata": {},
   "outputs": [
    {
     "data": {
      "text/plain": [
       "0.5"
      ]
     },
     "execution_count": 4,
     "metadata": {},
     "output_type": "execute_result"
    }
   ],
   "source": [
    "1/2"
   ]
  },
  {
   "cell_type": "code",
   "execution_count": 5,
   "id": "cff9654c-8f7b-4f71-86c7-506146754312",
   "metadata": {},
   "outputs": [
    {
     "data": {
      "text/plain": [
       "0.5"
      ]
     },
     "execution_count": 5,
     "metadata": {},
     "output_type": "execute_result"
    }
   ],
   "source": [
    "1/2.0"
   ]
  },
  {
   "cell_type": "code",
   "execution_count": 6,
   "id": "0a2595ee-89c9-4bc3-8933-609e67854d2a",
   "metadata": {},
   "outputs": [
    {
     "data": {
      "text/plain": [
       "3"
      ]
     },
     "execution_count": 6,
     "metadata": {},
     "output_type": "execute_result"
    }
   ],
   "source": [
    "1*3"
   ]
  },
  {
   "cell_type": "markdown",
   "id": "34b25970-b66b-44b3-aebc-1eb170ec0f11",
   "metadata": {},
   "source": [
    "2 To the Power of 4 (Exponential)"
   ]
  },
  {
   "cell_type": "code",
   "execution_count": 7,
   "id": "5e6e4082-1ef6-459c-ad73-a2c19b1751ae",
   "metadata": {},
   "outputs": [
    {
     "data": {
      "text/plain": [
       "16"
      ]
     },
     "execution_count": 7,
     "metadata": {},
     "output_type": "execute_result"
    }
   ],
   "source": [
    "2**4"
   ]
  },
  {
   "cell_type": "markdown",
   "id": "92f0415d-566b-4056-9d6a-bdbad977a2d9",
   "metadata": {},
   "source": [
    "Use Parentheses to clarify order"
   ]
  },
  {
   "cell_type": "code",
   "execution_count": 9,
   "id": "e5948f75-1e8a-48a2-b814-2e869ee6ae50",
   "metadata": {},
   "outputs": [
    {
     "data": {
      "text/plain": [
       "50"
      ]
     },
     "execution_count": 9,
     "metadata": {},
     "output_type": "execute_result"
    }
   ],
   "source": [
    "(2+3) * (5+5)"
   ]
  },
  {
   "cell_type": "markdown",
   "id": "5d4a480b-f4e2-4083-8899-fa76b0961e77",
   "metadata": {},
   "source": [
    "Modular(Remainder)"
   ]
  },
  {
   "cell_type": "code",
   "execution_count": 11,
   "id": "e0c220dd-0e84-45cb-a273-b5ee29ec23bd",
   "metadata": {},
   "outputs": [
    {
     "data": {
      "text/plain": [
       "0"
      ]
     },
     "execution_count": 11,
     "metadata": {},
     "output_type": "execute_result"
    }
   ],
   "source": [
    "4 % 2"
   ]
  },
  {
   "cell_type": "code",
   "execution_count": 12,
   "id": "05c1c417-1ff6-41a3-b3fc-f0f08d696d87",
   "metadata": {},
   "outputs": [
    {
     "data": {
      "text/plain": [
       "1"
      ]
     },
     "execution_count": 12,
     "metadata": {},
     "output_type": "execute_result"
    }
   ],
   "source": [
    "5%2"
   ]
  },
  {
   "cell_type": "markdown",
   "id": "94ce1e8c-4f84-4f5c-8233-cdd92ad841e8",
   "metadata": {},
   "source": [
    "Variables"
   ]
  },
  {
   "cell_type": "code",
   "execution_count": 13,
   "id": "5f062665-915f-4780-9448-c10e632a5cc3",
   "metadata": {},
   "outputs": [],
   "source": [
    "var=2"
   ]
  },
  {
   "cell_type": "code",
   "execution_count": 14,
   "id": "ddb968f5-723c-44cf-b6fa-3ebe706ecb60",
   "metadata": {},
   "outputs": [
    {
     "data": {
      "text/plain": [
       "2"
      ]
     },
     "execution_count": 14,
     "metadata": {},
     "output_type": "execute_result"
    }
   ],
   "source": [
    "var"
   ]
  },
  {
   "cell_type": "code",
   "execution_count": 15,
   "id": "757336fd-5989-48f3-b666-19f0ef0fbaf3",
   "metadata": {},
   "outputs": [],
   "source": [
    "x=2\n",
    "y=2"
   ]
  },
  {
   "cell_type": "code",
   "execution_count": 16,
   "id": "1b34a36c-2595-4d76-8213-d3104bf9d963",
   "metadata": {},
   "outputs": [
    {
     "data": {
      "text/plain": [
       "4"
      ]
     },
     "execution_count": 16,
     "metadata": {},
     "output_type": "execute_result"
    }
   ],
   "source": [
    "x+y"
   ]
  },
  {
   "cell_type": "code",
   "execution_count": 17,
   "id": "e89df1a5-ca98-4e1c-af7b-29e4e02e40c4",
   "metadata": {},
   "outputs": [],
   "source": [
    "x=x+x"
   ]
  },
  {
   "cell_type": "code",
   "execution_count": 18,
   "id": "7ff6ba4c-4bc1-4cab-bc53-ccbe3c149c59",
   "metadata": {},
   "outputs": [
    {
     "data": {
      "text/plain": [
       "4"
      ]
     },
     "execution_count": 18,
     "metadata": {},
     "output_type": "execute_result"
    }
   ],
   "source": [
    "x"
   ]
  },
  {
   "cell_type": "markdown",
   "id": "20874971-402a-4a43-bf45-f15287e0950f",
   "metadata": {},
   "source": [
    "Use underscore as Variable name"
   ]
  },
  {
   "cell_type": "code",
   "execution_count": 19,
   "id": "a84fa826-ac1e-4305-bdc6-fa8250e1ceec",
   "metadata": {},
   "outputs": [],
   "source": [
    "name_of_var=12"
   ]
  },
  {
   "cell_type": "code",
   "execution_count": 20,
   "id": "4750af77-047b-48d4-8b70-dba288d0a589",
   "metadata": {},
   "outputs": [
    {
     "data": {
      "text/plain": [
       "12"
      ]
     },
     "execution_count": 20,
     "metadata": {},
     "output_type": "execute_result"
    }
   ],
   "source": [
    "name_of_var"
   ]
  },
  {
   "cell_type": "markdown",
   "id": "f4795e51-4911-413b-ba96-568c2af986ed",
   "metadata": {},
   "source": [
    "Strings"
   ]
  },
  {
   "cell_type": "code",
   "execution_count": 23,
   "id": "84cb921e-a6be-4334-a246-a53840b22afc",
   "metadata": {},
   "outputs": [],
   "source": [
    "#Strings comment"
   ]
  },
  {
   "cell_type": "code",
   "execution_count": 24,
   "id": "7735b505-38f4-4ba4-afaf-0c4a75cc0502",
   "metadata": {},
   "outputs": [
    {
     "data": {
      "text/plain": [
       "'single qoutes'"
      ]
     },
     "execution_count": 24,
     "metadata": {},
     "output_type": "execute_result"
    }
   ],
   "source": [
    "'single qoutes'"
   ]
  },
  {
   "cell_type": "code",
   "execution_count": 25,
   "id": "7dfabffa-1928-45b6-b88d-8349fcf0b536",
   "metadata": {},
   "outputs": [
    {
     "data": {
      "text/plain": [
       "'double qoutes'"
      ]
     },
     "execution_count": 25,
     "metadata": {},
     "output_type": "execute_result"
    }
   ],
   "source": [
    "\"double qoutes\""
   ]
  },
  {
   "cell_type": "code",
   "execution_count": 26,
   "id": "8e37a15d-d9db-4dd7-aab8-c0f233e3e3dd",
   "metadata": {},
   "outputs": [
    {
     "data": {
      "text/plain": [
       "\"I can't go\""
      ]
     },
     "execution_count": 26,
     "metadata": {},
     "output_type": "execute_result"
    }
   ],
   "source": [
    "\"I can't go\""
   ]
  },
  {
   "cell_type": "code",
   "execution_count": 27,
   "id": "b7437a61-fcc3-4596-b3e2-76fa1f7691bd",
   "metadata": {},
   "outputs": [],
   "source": [
    "x='Hello'"
   ]
  },
  {
   "cell_type": "code",
   "execution_count": 28,
   "id": "b75f7337-5cf5-443e-a41c-5faf2171a1f9",
   "metadata": {},
   "outputs": [
    {
     "data": {
      "text/plain": [
       "'Hello'"
      ]
     },
     "execution_count": 28,
     "metadata": {},
     "output_type": "execute_result"
    }
   ],
   "source": [
    "x"
   ]
  },
  {
   "cell_type": "code",
   "execution_count": 29,
   "id": "4d39ddc0-d3d5-4dea-a8f2-76ec11a6d623",
   "metadata": {},
   "outputs": [
    {
     "name": "stdout",
     "output_type": "stream",
     "text": [
      "Hello\n"
     ]
    }
   ],
   "source": [
    "print (x)"
   ]
  },
  {
   "cell_type": "code",
   "execution_count": 31,
   "id": "3523309d-5c40-4032-843b-8911e7eca56f",
   "metadata": {},
   "outputs": [],
   "source": [
    "num = 12\n",
    "name= 'Nathalia'"
   ]
  },
  {
   "cell_type": "code",
   "execution_count": 32,
   "id": "4d6c7c12-1d4b-4f2e-a546-18f6939c357c",
   "metadata": {},
   "outputs": [
    {
     "data": {
      "text/plain": [
       "'My number is: 12, and my name is: Nathalia'"
      ]
     },
     "execution_count": 32,
     "metadata": {},
     "output_type": "execute_result"
    }
   ],
   "source": [
    "'My number is: {}, and my name is: {}'.format(num,name)"
   ]
  },
  {
   "cell_type": "code",
   "execution_count": 34,
   "id": "d9a4a835-39d8-48f7-903e-03c57c1d6e2e",
   "metadata": {},
   "outputs": [
    {
     "name": "stdout",
     "output_type": "stream",
     "text": [
      "My number is 12, and my name is Nathalia\n"
     ]
    }
   ],
   "source": [
    "print('My number is {}, and my name is {}'.format(num,name))"
   ]
  },
  {
   "cell_type": "code",
   "execution_count": 35,
   "id": "1ccbfa3c-8b13-49d1-bc49-d3a79f3de446",
   "metadata": {},
   "outputs": [
    {
     "name": "stdout",
     "output_type": "stream",
     "text": [
      "My number is: 12, and my name is: Nathalia\n"
     ]
    }
   ],
   "source": [
    "print('My number is: {one}, and my name is: {two}'.format(one=num,two=name))"
   ]
  },
  {
   "cell_type": "code",
   "execution_count": 36,
   "id": "a320f8ad-03ef-4a40-8127-0c8fe8eb065f",
   "metadata": {},
   "outputs": [],
   "source": [
    "s='Hello'"
   ]
  },
  {
   "cell_type": "code",
   "execution_count": 37,
   "id": "ea2fe4ac-d788-4826-a4e4-cbafe9602e16",
   "metadata": {},
   "outputs": [
    {
     "data": {
      "text/plain": [
       "'H'"
      ]
     },
     "execution_count": 37,
     "metadata": {},
     "output_type": "execute_result"
    }
   ],
   "source": [
    "s[0]"
   ]
  },
  {
   "cell_type": "code",
   "execution_count": 38,
   "id": "4eefe18b-121e-44c6-9043-83a9c07a4cf4",
   "metadata": {},
   "outputs": [
    {
     "data": {
      "text/plain": [
       "'o'"
      ]
     },
     "execution_count": 38,
     "metadata": {},
     "output_type": "execute_result"
    }
   ],
   "source": [
    "s[4]"
   ]
  },
  {
   "cell_type": "code",
   "execution_count": 39,
   "id": "04543212-3194-40d0-a00e-82fcc9fe53de",
   "metadata": {},
   "outputs": [],
   "source": [
    "s='abcdefghijk'"
   ]
  },
  {
   "cell_type": "code",
   "execution_count": 40,
   "id": "0ec3f672-a26c-47b8-9c72-6cb7cbfdc123",
   "metadata": {},
   "outputs": [
    {
     "data": {
      "text/plain": [
       "'a'"
      ]
     },
     "execution_count": 40,
     "metadata": {},
     "output_type": "execute_result"
    }
   ],
   "source": [
    "s[0]"
   ]
  },
  {
   "cell_type": "markdown",
   "id": "d0bcf979-8745-4ecf-8fe9-69fe8d5c67c3",
   "metadata": {},
   "source": [
    "Starting at 0, grad everything beyond it"
   ]
  },
  {
   "cell_type": "code",
   "execution_count": 42,
   "id": "94419e54-8eee-44ad-8c5c-44717c28683b",
   "metadata": {},
   "outputs": [
    {
     "data": {
      "text/plain": [
       "'abcdefghijk'"
      ]
     },
     "execution_count": 42,
     "metadata": {},
     "output_type": "execute_result"
    }
   ],
   "source": [
    "s[0:]"
   ]
  },
  {
   "cell_type": "markdown",
   "id": "feadeeb4-c7cb-4bbd-be7a-48e9687c4700",
   "metadata": {},
   "source": [
    "Grab Everything up to a certain point (but not including that point)"
   ]
  },
  {
   "cell_type": "code",
   "execution_count": 43,
   "id": "cfb8ed46-4e4b-4df1-bec5-e04ca2bb8c3e",
   "metadata": {},
   "outputs": [
    {
     "data": {
      "text/plain": [
       "'abc'"
      ]
     },
     "execution_count": 43,
     "metadata": {},
     "output_type": "execute_result"
    }
   ],
   "source": [
    "s[:3]"
   ]
  },
  {
   "cell_type": "code",
   "execution_count": 44,
   "id": "4d8f0ca2-330b-4ec1-9ed5-d643d5d6cb83",
   "metadata": {},
   "outputs": [
    {
     "data": {
      "text/plain": [
       "'def'"
      ]
     },
     "execution_count": 44,
     "metadata": {},
     "output_type": "execute_result"
    }
   ],
   "source": [
    "s[3:6]"
   ]
  },
  {
   "cell_type": "markdown",
   "id": "8c447667-0a42-4886-a6d4-105372b2de73",
   "metadata": {},
   "source": [
    "Lists"
   ]
  },
  {
   "cell_type": "code",
   "execution_count": 46,
   "id": "1ef38eb9-0df6-4d0b-855c-9c35d5bf458d",
   "metadata": {},
   "outputs": [
    {
     "data": {
      "text/plain": [
       "[1, 2, 3]"
      ]
     },
     "execution_count": 46,
     "metadata": {},
     "output_type": "execute_result"
    }
   ],
   "source": [
    "[1,2,3]"
   ]
  },
  {
   "cell_type": "code",
   "execution_count": 47,
   "id": "8c5e6663-0202-4ac3-b273-3e5cf976a8cd",
   "metadata": {},
   "outputs": [
    {
     "data": {
      "text/plain": [
       "['a', 'b', 'c']"
      ]
     },
     "execution_count": 47,
     "metadata": {},
     "output_type": "execute_result"
    }
   ],
   "source": [
    "['a','b','c']"
   ]
  },
  {
   "cell_type": "code",
   "execution_count": 48,
   "id": "b209d2d5-16a5-4f3d-ba8e-799f3a8166cd",
   "metadata": {},
   "outputs": [],
   "source": [
    "my_list = ['a','b','c']"
   ]
  },
  {
   "cell_type": "code",
   "execution_count": 49,
   "id": "9fe71441-3aee-4c79-b571-f9ae43068d5a",
   "metadata": {},
   "outputs": [],
   "source": [
    "my_list.append('d')"
   ]
  },
  {
   "cell_type": "code",
   "execution_count": 50,
   "id": "f0462470-bb03-43ae-a8b3-7ecc0dc21b89",
   "metadata": {},
   "outputs": [
    {
     "data": {
      "text/plain": [
       "['a', 'b', 'c', 'd']"
      ]
     },
     "execution_count": 50,
     "metadata": {},
     "output_type": "execute_result"
    }
   ],
   "source": [
    "my_list"
   ]
  },
  {
   "cell_type": "code",
   "execution_count": 51,
   "id": "77537423-5038-4104-835a-e288c3b1951f",
   "metadata": {},
   "outputs": [
    {
     "data": {
      "text/plain": [
       "'a'"
      ]
     },
     "execution_count": 51,
     "metadata": {},
     "output_type": "execute_result"
    }
   ],
   "source": [
    "my_list[0]"
   ]
  },
  {
   "cell_type": "code",
   "execution_count": 52,
   "id": "00844652-6eb8-4aff-9cf0-bfe9b0416caa",
   "metadata": {},
   "outputs": [
    {
     "data": {
      "text/plain": [
       "['b', 'c']"
      ]
     },
     "execution_count": 52,
     "metadata": {},
     "output_type": "execute_result"
    }
   ],
   "source": [
    "my_list[1:3]"
   ]
  },
  {
   "cell_type": "markdown",
   "id": "3f826ab9-be9a-4e5f-83c2-37090b3b0ef1",
   "metadata": {},
   "source": [
    "Replace elements in a list"
   ]
  },
  {
   "cell_type": "code",
   "execution_count": 54,
   "id": "ebfcae93-c7f3-4fe9-9729-8fdbf15f05a6",
   "metadata": {},
   "outputs": [],
   "source": [
    "my_list[0] = 'NEW'"
   ]
  },
  {
   "cell_type": "code",
   "execution_count": 55,
   "id": "477e037b-8102-4eaf-ab60-b1d95f0d34ee",
   "metadata": {},
   "outputs": [
    {
     "data": {
      "text/plain": [
       "['NEW', 'b', 'c', 'd']"
      ]
     },
     "execution_count": 55,
     "metadata": {},
     "output_type": "execute_result"
    }
   ],
   "source": [
    "my_list"
   ]
  },
  {
   "cell_type": "markdown",
   "id": "aecec2c0-0c18-4433-8506-9fa3152277dc",
   "metadata": {},
   "source": [
    "Nesting Lists"
   ]
  },
  {
   "cell_type": "code",
   "execution_count": 61,
   "id": "86c02f27-46f8-41ac-8fc1-7e6610230a14",
   "metadata": {},
   "outputs": [],
   "source": [
    "nest = [1,2,[3,4]]"
   ]
  },
  {
   "cell_type": "code",
   "execution_count": 62,
   "id": "a22334a4-4864-425a-b76d-1de060ff1bde",
   "metadata": {},
   "outputs": [
    {
     "data": {
      "text/plain": [
       "[1, 2, [3, 4]]"
      ]
     },
     "execution_count": 62,
     "metadata": {},
     "output_type": "execute_result"
    }
   ],
   "source": [
    "nest"
   ]
  },
  {
   "cell_type": "code",
   "execution_count": 63,
   "id": "566660cf-a78a-4b8a-83c6-8e532f5bf776",
   "metadata": {},
   "outputs": [
    {
     "data": {
      "text/plain": [
       "[3, 4]"
      ]
     },
     "execution_count": 63,
     "metadata": {},
     "output_type": "execute_result"
    }
   ],
   "source": [
    "nest[2]"
   ]
  },
  {
   "cell_type": "code",
   "execution_count": 64,
   "id": "6bb0375b-fc6e-44ad-9b24-f321f8fdd5dd",
   "metadata": {},
   "outputs": [
    {
     "data": {
      "text/plain": [
       "4"
      ]
     },
     "execution_count": 64,
     "metadata": {},
     "output_type": "execute_result"
    }
   ],
   "source": [
    "nest[2][1]"
   ]
  },
  {
   "cell_type": "code",
   "execution_count": 65,
   "id": "c74e719c-402f-436a-bfcd-c38c51147add",
   "metadata": {},
   "outputs": [],
   "source": [
    "nest = [1,2,3,[4,5,['target']]]"
   ]
  },
  {
   "cell_type": "code",
   "execution_count": 66,
   "id": "10f6aa75-8910-467c-b7f7-4619173e6887",
   "metadata": {},
   "outputs": [
    {
     "data": {
      "text/plain": [
       "[4, 5, ['target']]"
      ]
     },
     "execution_count": 66,
     "metadata": {},
     "output_type": "execute_result"
    }
   ],
   "source": [
    "nest[3]"
   ]
  },
  {
   "cell_type": "code",
   "execution_count": 67,
   "id": "40a0ea41-1fbd-4c50-b4cf-381d0c1d8d44",
   "metadata": {},
   "outputs": [
    {
     "data": {
      "text/plain": [
       "['target']"
      ]
     },
     "execution_count": 67,
     "metadata": {},
     "output_type": "execute_result"
    }
   ],
   "source": [
    "nest[3][2]"
   ]
  },
  {
   "cell_type": "code",
   "execution_count": 68,
   "id": "b919e7ed-1c10-4fa5-801b-d701c17d1e9f",
   "metadata": {},
   "outputs": [
    {
     "data": {
      "text/plain": [
       "'target'"
      ]
     },
     "execution_count": 68,
     "metadata": {},
     "output_type": "execute_result"
    }
   ],
   "source": [
    "nest[3][2][0]"
   ]
  },
  {
   "cell_type": "code",
   "execution_count": 69,
   "id": "c101bb00-bbfc-495d-907e-011c11300fc5",
   "metadata": {},
   "outputs": [
    {
     "name": "stdout",
     "output_type": "stream",
     "text": [
      "target\n"
     ]
    }
   ],
   "source": [
    "print(nest[3][2][0])"
   ]
  },
  {
   "cell_type": "markdown",
   "id": "3309516d-d2fc-4434-b4bd-d67a995b1d56",
   "metadata": {},
   "source": [
    "Dictionaries"
   ]
  },
  {
   "cell_type": "code",
   "execution_count": 76,
   "id": "3eaaa2a3-7f08-4fbd-be29-a5eee56a6578",
   "metadata": {},
   "outputs": [],
   "source": [
    "d = {'key1':'value-pair1','key2':'value-pair2'}"
   ]
  },
  {
   "cell_type": "code",
   "execution_count": 77,
   "id": "4b74df06-fe4b-463a-8047-097794a9d8fb",
   "metadata": {},
   "outputs": [
    {
     "data": {
      "text/plain": [
       "'value-pair1'"
      ]
     },
     "execution_count": 77,
     "metadata": {},
     "output_type": "execute_result"
    }
   ],
   "source": [
    "d['key1']"
   ]
  },
  {
   "cell_type": "code",
   "execution_count": 78,
   "id": "1ac593b2-1ee6-47e1-80ce-2d2481fd6e4b",
   "metadata": {},
   "outputs": [],
   "source": [
    "d={'K1':[1,2,3]}"
   ]
  },
  {
   "cell_type": "markdown",
   "id": "64587623-c092-4494-8ff2-ddb8b40415e8",
   "metadata": {},
   "source": [
    "Return dictionary"
   ]
  },
  {
   "cell_type": "code",
   "execution_count": 79,
   "id": "9686038c-648d-49d9-87ef-0825046ece46",
   "metadata": {},
   "outputs": [
    {
     "data": {
      "text/plain": [
       "{'K1': [1, 2, 3]}"
      ]
     },
     "execution_count": 79,
     "metadata": {},
     "output_type": "execute_result"
    }
   ],
   "source": [
    "d"
   ]
  },
  {
   "cell_type": "markdown",
   "id": "7ac93146-ba8d-40e7-afe9-287319d7705d",
   "metadata": {},
   "source": [
    "Return List within a dictionary"
   ]
  },
  {
   "cell_type": "code",
   "execution_count": 80,
   "id": "6599562d-1f59-4a3f-b073-22103dcf8ea7",
   "metadata": {},
   "outputs": [
    {
     "data": {
      "text/plain": [
       "[1, 2, 3]"
      ]
     },
     "execution_count": 80,
     "metadata": {},
     "output_type": "execute_result"
    }
   ],
   "source": [
    "d['K1']"
   ]
  },
  {
   "cell_type": "markdown",
   "id": "891e3044-e498-4bb0-80a9-d3cc3a9d0dbd",
   "metadata": {},
   "source": [
    "Now you can do normal indexing on the list itself"
   ]
  },
  {
   "cell_type": "code",
   "execution_count": 81,
   "id": "ac039759-1037-49f2-895d-3529ce7eee1e",
   "metadata": {},
   "outputs": [
    {
     "data": {
      "text/plain": [
       "1"
      ]
     },
     "execution_count": 81,
     "metadata": {},
     "output_type": "execute_result"
    }
   ],
   "source": [
    "d['K1'][0]"
   ]
  },
  {
   "cell_type": "code",
   "execution_count": 82,
   "id": "0e7a83a2-e216-459c-acf2-cbefab7e4329",
   "metadata": {},
   "outputs": [],
   "source": [
    "d = {'K1':{'innerkey': [1,2,3]}}"
   ]
  },
  {
   "cell_type": "code",
   "execution_count": 83,
   "id": "628b212e-5685-472f-801a-0d5e37bde77a",
   "metadata": {},
   "outputs": [
    {
     "data": {
      "text/plain": [
       "{'innerkey': [1, 2, 3]}"
      ]
     },
     "execution_count": 83,
     "metadata": {},
     "output_type": "execute_result"
    }
   ],
   "source": [
    "d['K1']"
   ]
  },
  {
   "cell_type": "code",
   "execution_count": 84,
   "id": "35e52f52-dc85-4902-bb93-f7c6dba91e71",
   "metadata": {},
   "outputs": [
    {
     "data": {
      "text/plain": [
       "[1, 2, 3]"
      ]
     },
     "execution_count": 84,
     "metadata": {},
     "output_type": "execute_result"
    }
   ],
   "source": [
    "d['K1']['innerkey']"
   ]
  },
  {
   "cell_type": "code",
   "execution_count": 87,
   "id": "40d4d3a6-df8b-4327-9e91-a60fb3ea07bd",
   "metadata": {},
   "outputs": [
    {
     "data": {
      "text/plain": [
       "2"
      ]
     },
     "execution_count": 87,
     "metadata": {},
     "output_type": "execute_result"
    }
   ],
   "source": [
    "d['K1']['innerkey'][1]"
   ]
  },
  {
   "cell_type": "markdown",
   "id": "ada804d1-5c04-41fc-9215-42271db6f790",
   "metadata": {},
   "source": [
    "BOOLEANS"
   ]
  },
  {
   "cell_type": "code",
   "execution_count": 88,
   "id": "85364f7c-6e5f-4860-808d-ecf5e5c7ae21",
   "metadata": {},
   "outputs": [
    {
     "data": {
      "text/plain": [
       "True"
      ]
     },
     "execution_count": 88,
     "metadata": {},
     "output_type": "execute_result"
    }
   ],
   "source": [
    "True"
   ]
  },
  {
   "cell_type": "code",
   "execution_count": 89,
   "id": "8088e4e3-c724-42f5-96f9-3851755fe34e",
   "metadata": {},
   "outputs": [
    {
     "data": {
      "text/plain": [
       "False"
      ]
     },
     "execution_count": 89,
     "metadata": {},
     "output_type": "execute_result"
    }
   ],
   "source": [
    "False"
   ]
  },
  {
   "cell_type": "markdown",
   "id": "16236488-9e09-49c5-8048-048d0d07deaa",
   "metadata": {},
   "source": [
    "Tuple "
   ]
  },
  {
   "cell_type": "code",
   "execution_count": 91,
   "id": "dd0634fc-346c-489f-b241-4b4c1830dff0",
   "metadata": {},
   "outputs": [],
   "source": [
    "t = (1,2,3)"
   ]
  },
  {
   "cell_type": "code",
   "execution_count": 92,
   "id": "54f6677b-de27-4eac-ad46-6c9b4706b426",
   "metadata": {},
   "outputs": [
    {
     "data": {
      "text/plain": [
       "1"
      ]
     },
     "execution_count": 92,
     "metadata": {},
     "output_type": "execute_result"
    }
   ],
   "source": [
    "t[0]"
   ]
  },
  {
   "cell_type": "code",
   "execution_count": 93,
   "id": "d000f2a3-f79e-4def-8891-12d294d1cf05",
   "metadata": {},
   "outputs": [
    {
     "ename": "TypeError",
     "evalue": "'tuple' object does not support item assignment",
     "output_type": "error",
     "traceback": [
      "\u001b[1;31m---------------------------------------------------------------------------\u001b[0m",
      "\u001b[1;31mTypeError\u001b[0m                                 Traceback (most recent call last)",
      "Cell \u001b[1;32mIn[93], line 1\u001b[0m\n\u001b[1;32m----> 1\u001b[0m t[\u001b[38;5;241m0\u001b[39m]\u001b[38;5;241m=\u001b[39m\u001b[38;5;124m'\u001b[39m\u001b[38;5;124mNew\u001b[39m\u001b[38;5;124m'\u001b[39m\n",
      "\u001b[1;31mTypeError\u001b[0m: 'tuple' object does not support item assignment"
     ]
    }
   ],
   "source": [
    "t[0]='New'"
   ]
  },
  {
   "cell_type": "markdown",
   "id": "427a09fe-6d5e-48ae-884f-0df5438a4ed8",
   "metadata": {},
   "source": [
    "SETS"
   ]
  },
  {
   "cell_type": "code",
   "execution_count": 95,
   "id": "e8097943-be26-4239-9c5b-8b21240f7d10",
   "metadata": {},
   "outputs": [
    {
     "data": {
      "text/plain": [
       "{1, 2, 3}"
      ]
     },
     "execution_count": 95,
     "metadata": {},
     "output_type": "execute_result"
    }
   ],
   "source": [
    "{1,2,3}"
   ]
  },
  {
   "cell_type": "code",
   "execution_count": 97,
   "id": "0bf1b9d5-9ab1-47cc-b753-8e4b1abfaed9",
   "metadata": {},
   "outputs": [
    {
     "data": {
      "text/plain": [
       "{1, 2, 3}"
      ]
     },
     "execution_count": 97,
     "metadata": {},
     "output_type": "execute_result"
    }
   ],
   "source": [
    "{1,1,1,2,2,2,1,2,1,3,3,3}"
   ]
  },
  {
   "cell_type": "code",
   "execution_count": 101,
   "id": "f570671a-c685-44a1-9fc5-e7cae8225449",
   "metadata": {},
   "outputs": [
    {
     "data": {
      "text/plain": [
       "{0, 1, 2, 3, 4, 5, 6, 8, 9}"
      ]
     },
     "execution_count": 101,
     "metadata": {},
     "output_type": "execute_result"
    }
   ],
   "source": [
    "set([1,2,3,3,2,2,1,5,6,8,9,4,2,2,6,9,0])"
   ]
  },
  {
   "cell_type": "code",
   "execution_count": 102,
   "id": "e7d776f0-0b2e-491a-8437-a2e97be31bad",
   "metadata": {},
   "outputs": [],
   "source": [
    "s ={1,2,3}"
   ]
  },
  {
   "cell_type": "code",
   "execution_count": 103,
   "id": "528c680c-8b56-4639-b614-6de403f5e045",
   "metadata": {},
   "outputs": [],
   "source": [
    "s.add(5)"
   ]
  },
  {
   "cell_type": "code",
   "execution_count": 104,
   "id": "134d7927-11c5-4cac-9f46-e43073ad1435",
   "metadata": {},
   "outputs": [
    {
     "data": {
      "text/plain": [
       "{1, 2, 3, 5}"
      ]
     },
     "execution_count": 104,
     "metadata": {},
     "output_type": "execute_result"
    }
   ],
   "source": [
    "s"
   ]
  },
  {
   "cell_type": "markdown",
   "id": "d6d82d9b-2267-486c-af52-1a5cfc7eaca9",
   "metadata": {},
   "source": [
    "COMPARISON OPERATORS"
   ]
  },
  {
   "cell_type": "code",
   "execution_count": 105,
   "id": "7ea32e89-4402-42c8-9975-c806ac3941a6",
   "metadata": {},
   "outputs": [
    {
     "data": {
      "text/plain": [
       "False"
      ]
     },
     "execution_count": 105,
     "metadata": {},
     "output_type": "execute_result"
    }
   ],
   "source": [
    "1 > 2"
   ]
  },
  {
   "cell_type": "code",
   "execution_count": 106,
   "id": "9deafbaf-ad60-4fc8-ab4f-a0990d3cd203",
   "metadata": {},
   "outputs": [
    {
     "data": {
      "text/plain": [
       "True"
      ]
     },
     "execution_count": 106,
     "metadata": {},
     "output_type": "execute_result"
    }
   ],
   "source": [
    "1 < 2"
   ]
  },
  {
   "cell_type": "code",
   "execution_count": 107,
   "id": "39d6a76e-3b7a-4fde-bdca-087bc9a0fd6b",
   "metadata": {},
   "outputs": [
    {
     "data": {
      "text/plain": [
       "False"
      ]
     },
     "execution_count": 107,
     "metadata": {},
     "output_type": "execute_result"
    }
   ],
   "source": [
    "1 >= 2"
   ]
  },
  {
   "cell_type": "code",
   "execution_count": 108,
   "id": "1fbbb3c0-3a5c-4f99-80ba-0650b2ebeacf",
   "metadata": {},
   "outputs": [
    {
     "data": {
      "text/plain": [
       "True"
      ]
     },
     "execution_count": 108,
     "metadata": {},
     "output_type": "execute_result"
    }
   ],
   "source": [
    "1<=1"
   ]
  },
  {
   "cell_type": "code",
   "execution_count": 109,
   "id": "6be04707-2c74-4503-970e-30bfc075fbd8",
   "metadata": {},
   "outputs": [
    {
     "data": {
      "text/plain": [
       "True"
      ]
     },
     "execution_count": 109,
     "metadata": {},
     "output_type": "execute_result"
    }
   ],
   "source": [
    "2==2"
   ]
  },
  {
   "cell_type": "code",
   "execution_count": 110,
   "id": "6ed77b49-b777-46ab-a4ae-c2e5f85c2571",
   "metadata": {},
   "outputs": [
    {
     "data": {
      "text/plain": [
       "False"
      ]
     },
     "execution_count": 110,
     "metadata": {},
     "output_type": "execute_result"
    }
   ],
   "source": [
    "1==2"
   ]
  },
  {
   "cell_type": "code",
   "execution_count": 111,
   "id": "6722ec69-0e16-42c1-9979-a9e18263b4ef",
   "metadata": {},
   "outputs": [
    {
     "data": {
      "text/plain": [
       "True"
      ]
     },
     "execution_count": 111,
     "metadata": {},
     "output_type": "execute_result"
    }
   ],
   "source": [
    "1!=2"
   ]
  },
  {
   "cell_type": "code",
   "execution_count": 112,
   "id": "98e0b9ed-8ab9-4481-ab40-e40251fae770",
   "metadata": {},
   "outputs": [
    {
     "data": {
      "text/plain": [
       "False"
      ]
     },
     "execution_count": 112,
     "metadata": {},
     "output_type": "execute_result"
    }
   ],
   "source": [
    "'hi' == 'bye'"
   ]
  },
  {
   "cell_type": "code",
   "execution_count": 113,
   "id": "309003ed-94d6-4016-8b5f-cd0d7d9d34bf",
   "metadata": {},
   "outputs": [
    {
     "data": {
      "text/plain": [
       "True"
      ]
     },
     "execution_count": 113,
     "metadata": {},
     "output_type": "execute_result"
    }
   ],
   "source": [
    "'hi' != 'bye'"
   ]
  },
  {
   "cell_type": "markdown",
   "id": "08f095c0-2d9d-4083-8631-e18e97aac3ab",
   "metadata": {},
   "source": [
    "USING AND and OR WITH COMPARISON OPERATORS"
   ]
  },
  {
   "cell_type": "code",
   "execution_count": 114,
   "id": "54b87c70-1a45-462c-b6d5-250029ba6e69",
   "metadata": {},
   "outputs": [
    {
     "data": {
      "text/plain": [
       "False"
      ]
     },
     "execution_count": 114,
     "metadata": {},
     "output_type": "execute_result"
    }
   ],
   "source": [
    "1 > 2 and 2 < 3"
   ]
  },
  {
   "cell_type": "code",
   "execution_count": 115,
   "id": "30aacc9a-04c7-49f5-aea9-7bd3a6141ff2",
   "metadata": {},
   "outputs": [
    {
     "data": {
      "text/plain": [
       "False"
      ]
     },
     "execution_count": 115,
     "metadata": {},
     "output_type": "execute_result"
    }
   ],
   "source": [
    "(1 > 2) and (2 < 3)"
   ]
  },
  {
   "cell_type": "code",
   "execution_count": 116,
   "id": "9c5b7b4f-da63-41ee-9642-882150cbd507",
   "metadata": {},
   "outputs": [
    {
     "data": {
      "text/plain": [
       "True"
      ]
     },
     "execution_count": 116,
     "metadata": {},
     "output_type": "execute_result"
    }
   ],
   "source": [
    "(1 > 2) or (2 < 3)"
   ]
  },
  {
   "cell_type": "code",
   "execution_count": 117,
   "id": "1d11b2f1-e624-4cf1-be46-7655f96883a5",
   "metadata": {},
   "outputs": [
    {
     "data": {
      "text/plain": [
       "True"
      ]
     },
     "execution_count": 117,
     "metadata": {},
     "output_type": "execute_result"
    }
   ],
   "source": [
    "(1 > 2) or (2 < 3) or (1==1)"
   ]
  },
  {
   "cell_type": "code",
   "execution_count": null,
   "id": "e546a031-f31a-4f9d-afa4-9126fc042c73",
   "metadata": {},
   "outputs": [],
   "source": [
    "IF STATEMENTS"
   ]
  },
  {
   "cell_type": "markdown",
   "id": "97d19863-02c0-46e7-b512-642a41255e8d",
   "metadata": {},
   "source": [
    "If some condition is true, then execute the block of code below it."
   ]
  },
  {
   "cell_type": "code",
   "execution_count": 118,
   "id": "de29f1a5-5f02-4adf-bd3a-faa131add0b4",
   "metadata": {},
   "outputs": [
    {
     "name": "stdout",
     "output_type": "stream",
     "text": [
      "Yep!\n"
     ]
    }
   ],
   "source": [
    "if 1 < 2:\n",
    "    print('Yep!')"
   ]
  },
  {
   "cell_type": "code",
   "execution_count": 119,
   "id": "6f7a1c23-e483-4c98-a083-2cc3d138f1c0",
   "metadata": {},
   "outputs": [],
   "source": [
    "if True:\n",
    "    x=2+2\n"
   ]
  },
  {
   "cell_type": "code",
   "execution_count": 120,
   "id": "6418c548-d039-4fe2-a7cc-1ee12987f885",
   "metadata": {},
   "outputs": [
    {
     "data": {
      "text/plain": [
       "4"
      ]
     },
     "execution_count": 120,
     "metadata": {},
     "output_type": "execute_result"
    }
   ],
   "source": [
    "x"
   ]
  },
  {
   "cell_type": "code",
   "execution_count": 121,
   "id": "1801073f-2ae7-4be7-8042-68fcd41066da",
   "metadata": {},
   "outputs": [
    {
     "name": "stdout",
     "output_type": "stream",
     "text": [
      "last\n"
     ]
    }
   ],
   "source": [
    "if 1 == 2:\n",
    "    print('first')\n",
    "else:\n",
    "    print('last')"
   ]
  },
  {
   "cell_type": "markdown",
   "id": "d5f1614a-9d33-4e62-a7e8-ca215a723425",
   "metadata": {},
   "source": [
    "Only execute block of code if true (will only execute the first TRUE condition)"
   ]
  },
  {
   "cell_type": "code",
   "execution_count": 122,
   "id": "5c705724-645f-402b-976e-03a4eb0c5ac8",
   "metadata": {},
   "outputs": [
    {
     "name": "stdout",
     "output_type": "stream",
     "text": [
      "middle\n"
     ]
    }
   ],
   "source": [
    "if 1 == 2:\n",
    "    print('first')\n",
    "elif 3 == 3:\n",
    "    print('middle')\n",
    "else:\n",
    "    print('Last')"
   ]
  },
  {
   "cell_type": "code",
   "execution_count": 123,
   "id": "71b6fa45-fc47-4e17-b4e6-073c2588eddc",
   "metadata": {},
   "outputs": [
    {
     "name": "stdout",
     "output_type": "stream",
     "text": [
      "second\n"
     ]
    }
   ],
   "source": [
    "if 1 == 2:\n",
    "    print('first')\n",
    "elif 4==4:\n",
    "    print('second')\n",
    "elif 3 == 3:\n",
    "    print('middle')\n",
    "else:\n",
    "    print('Last')"
   ]
  },
  {
   "cell_type": "markdown",
   "id": "5e3b4f7a-70f6-4905-b641-8ae8a60f0a29",
   "metadata": {},
   "source": [
    "FOR LOOP"
   ]
  },
  {
   "cell_type": "code",
   "execution_count": 125,
   "id": "3ceea58a-d4cd-43a7-aa9b-bf269948e583",
   "metadata": {},
   "outputs": [],
   "source": [
    "seq = [1,2,3,4,5]"
   ]
  },
  {
   "cell_type": "code",
   "execution_count": 127,
   "id": "2e37c87d-141c-4486-a268-7380f8de16f9",
   "metadata": {},
   "outputs": [
    {
     "name": "stdout",
     "output_type": "stream",
     "text": [
      "1\n",
      "2\n",
      "3\n",
      "4\n",
      "5\n"
     ]
    }
   ],
   "source": [
    "for num in seq:\n",
    "    print(num)"
   ]
  },
  {
   "cell_type": "markdown",
   "id": "602ad763-6581-431a-9719-07aa71183a01",
   "metadata": {},
   "source": [
    "For every element in here, I will print a specifc thing"
   ]
  },
  {
   "cell_type": "code",
   "execution_count": 128,
   "id": "db2ffabf-cb65-4bab-8810-71752f931d4e",
   "metadata": {},
   "outputs": [
    {
     "name": "stdout",
     "output_type": "stream",
     "text": [
      "hello\n",
      "hello\n",
      "hello\n",
      "hello\n",
      "hello\n"
     ]
    }
   ],
   "source": [
    "for num in seq:\n",
    "    print('hello')"
   ]
  },
  {
   "cell_type": "markdown",
   "id": "fd49297c-3fce-4555-9543-fb74647b6357",
   "metadata": {},
   "source": [
    "WHILE LOOPS "
   ]
  },
  {
   "cell_type": "code",
   "execution_count": 129,
   "id": "ebbe7722-a159-4ba3-91f1-3bf61cb704ae",
   "metadata": {},
   "outputs": [
    {
     "name": "stdout",
     "output_type": "stream",
     "text": [
      "i is: 1\n",
      "i is: 2\n",
      "i is: 3\n",
      "i is: 4\n"
     ]
    }
   ],
   "source": [
    "i = 1\n",
    "while i < 5:\n",
    "    print('i is: {}'.format(i))\n",
    "    i = i+1"
   ]
  },
  {
   "cell_type": "markdown",
   "id": "f3b55817-e8ee-4ba3-9863-067fc3c3396e",
   "metadata": {},
   "source": [
    "RANGE"
   ]
  },
  {
   "cell_type": "code",
   "execution_count": 130,
   "id": "5aac8d01-ac1a-4a90-9993-6cf1e10a1510",
   "metadata": {},
   "outputs": [
    {
     "data": {
      "text/plain": [
       "range(0, 5)"
      ]
     },
     "execution_count": 130,
     "metadata": {},
     "output_type": "execute_result"
    }
   ],
   "source": [
    "range(0,5)"
   ]
  },
  {
   "cell_type": "code",
   "execution_count": 131,
   "id": "98e46d44-09ee-43cf-8182-55402dc1288e",
   "metadata": {},
   "outputs": [
    {
     "name": "stdout",
     "output_type": "stream",
     "text": [
      "0\n",
      "1\n",
      "2\n",
      "3\n",
      "4\n"
     ]
    }
   ],
   "source": [
    "for x in range(0,5):\n",
    "    print(x)"
   ]
  },
  {
   "cell_type": "code",
   "execution_count": 132,
   "id": "7d0e9837-721a-4f90-ae67-044be29b4c57",
   "metadata": {},
   "outputs": [
    {
     "data": {
      "text/plain": [
       "[0, 1, 2, 3, 4]"
      ]
     },
     "execution_count": 132,
     "metadata": {},
     "output_type": "execute_result"
    }
   ],
   "source": [
    "list(range(0,5))"
   ]
  },
  {
   "cell_type": "code",
   "execution_count": 133,
   "id": "2558b6c5-6d55-475d-a881-f669031af34d",
   "metadata": {},
   "outputs": [
    {
     "data": {
      "text/plain": [
       "range(0, 3)"
      ]
     },
     "execution_count": 133,
     "metadata": {},
     "output_type": "execute_result"
    }
   ],
   "source": [
    "range(3)"
   ]
  },
  {
   "cell_type": "code",
   "execution_count": 134,
   "id": "db6fb982-e7ca-4336-848d-eb6a018b6de9",
   "metadata": {},
   "outputs": [
    {
     "data": {
      "text/plain": [
       "[0, 1, 2]"
      ]
     },
     "execution_count": 134,
     "metadata": {},
     "output_type": "execute_result"
    }
   ],
   "source": [
    "list(range(3))"
   ]
  },
  {
   "cell_type": "markdown",
   "id": "0c9b6cb2-b732-4a45-bc72-ad497cc3ee0c",
   "metadata": {},
   "source": [
    "LIST COMPREHENSION"
   ]
  },
  {
   "cell_type": "code",
   "execution_count": 136,
   "id": "9db2d931-0a5a-428a-8a3c-f0e665dd3bb9",
   "metadata": {},
   "outputs": [],
   "source": [
    "x = [1,2,3,4]"
   ]
  },
  {
   "cell_type": "code",
   "execution_count": 137,
   "id": "25692de8-ec60-47ee-87e7-801ca86d45be",
   "metadata": {},
   "outputs": [
    {
     "name": "stdout",
     "output_type": "stream",
     "text": [
      "[1, 4, 9, 16]\n"
     ]
    }
   ],
   "source": [
    "out = []\n",
    "for num in x:\n",
    "    out.append(num**2)\n",
    "print(out)"
   ]
  },
  {
   "cell_type": "code",
   "execution_count": 138,
   "id": "705289e1-3b6a-41ef-b146-5f648b8e4ff4",
   "metadata": {},
   "outputs": [
    {
     "data": {
      "text/plain": [
       "[1, 4, 9, 16]"
      ]
     },
     "execution_count": 138,
     "metadata": {},
     "output_type": "execute_result"
    }
   ],
   "source": [
    "[num**2 for num in x ]"
   ]
  },
  {
   "cell_type": "code",
   "execution_count": 139,
   "id": "030e204e-ee7d-4433-80b2-a0a198241dc3",
   "metadata": {},
   "outputs": [],
   "source": [
    "out = [num**2 for num in x ]"
   ]
  },
  {
   "cell_type": "code",
   "execution_count": 140,
   "id": "e52c24e3-dbc1-4641-aa52-3827e8a74cdf",
   "metadata": {},
   "outputs": [
    {
     "data": {
      "text/plain": [
       "[1, 4, 9, 16]"
      ]
     },
     "execution_count": 140,
     "metadata": {},
     "output_type": "execute_result"
    }
   ],
   "source": [
    "out"
   ]
  },
  {
   "cell_type": "markdown",
   "id": "0a7bfb6f-54ce-4612-9929-86c431dc137d",
   "metadata": {},
   "source": [
    "FUNCTIONS"
   ]
  },
  {
   "cell_type": "code",
   "execution_count": 141,
   "id": "c38c5857-d15a-4d1a-adf9-90206533aa7f",
   "metadata": {},
   "outputs": [],
   "source": [
    "def my_func(param1):\n",
    "    print(param1)"
   ]
  },
  {
   "cell_type": "code",
   "execution_count": 142,
   "id": "cf754bc2-6fcd-44fc-9cf3-e7c9f8bebc59",
   "metadata": {},
   "outputs": [
    {
     "name": "stdout",
     "output_type": "stream",
     "text": [
      "hello\n"
     ]
    }
   ],
   "source": [
    "my_func('hello')"
   ]
  },
  {
   "cell_type": "code",
   "execution_count": 146,
   "id": "f51deeb5-af00-4cc4-abfb-43993490ddbb",
   "metadata": {},
   "outputs": [],
   "source": [
    "def my_func1(name):\n",
    "    print('Hello '+ name)"
   ]
  },
  {
   "cell_type": "code",
   "execution_count": 147,
   "id": "6fcbf149-fbd8-433f-830e-baebb14f62ee",
   "metadata": {},
   "outputs": [
    {
     "name": "stdout",
     "output_type": "stream",
     "text": [
      "Hello Nathalia\n"
     ]
    }
   ],
   "source": [
    "my_func1('Nathalia')"
   ]
  },
  {
   "cell_type": "code",
   "execution_count": 150,
   "id": "ec72b692-ac5c-4b00-83b3-3ff45a733515",
   "metadata": {},
   "outputs": [],
   "source": [
    "def my_func2(name= 'Default Name'):\n",
    "    print('Hello '+ name)"
   ]
  },
  {
   "cell_type": "code",
   "execution_count": 151,
   "id": "51464189-bb38-4553-a5cf-3ba8f61e21e0",
   "metadata": {},
   "outputs": [
    {
     "name": "stdout",
     "output_type": "stream",
     "text": [
      "Hello Default Name\n"
     ]
    }
   ],
   "source": [
    "my_func2()"
   ]
  },
  {
   "cell_type": "markdown",
   "id": "e1454b22-b348-4649-aee7-7079531b1c23",
   "metadata": {},
   "source": [
    "Printing object name without ()"
   ]
  },
  {
   "cell_type": "code",
   "execution_count": 152,
   "id": "347b0610-f0bd-4ee4-b13b-699e27e165a9",
   "metadata": {},
   "outputs": [
    {
     "data": {
      "text/plain": [
       "<function __main__.my_func2(name='Default Name')>"
      ]
     },
     "execution_count": 152,
     "metadata": {},
     "output_type": "execute_result"
    }
   ],
   "source": [
    "my_func2"
   ]
  },
  {
   "cell_type": "code",
   "execution_count": 153,
   "id": "82ceddca-63d8-4cc0-b9c8-e71e00201405",
   "metadata": {},
   "outputs": [],
   "source": [
    "def square(x):\n",
    "    return x**2"
   ]
  },
  {
   "cell_type": "code",
   "execution_count": 154,
   "id": "449bfe69-a96d-44f9-9a5b-a8fa62a3d66b",
   "metadata": {},
   "outputs": [],
   "source": [
    "out = square(2)"
   ]
  },
  {
   "cell_type": "code",
   "execution_count": 155,
   "id": "a0970c01-fed2-4469-b205-1af3bd7a8998",
   "metadata": {},
   "outputs": [
    {
     "data": {
      "text/plain": [
       "4"
      ]
     },
     "execution_count": 155,
     "metadata": {},
     "output_type": "execute_result"
    }
   ],
   "source": [
    "out"
   ]
  },
  {
   "cell_type": "code",
   "execution_count": 157,
   "id": "bb30d080-57c7-4460-b56d-0c0267993975",
   "metadata": {},
   "outputs": [],
   "source": [
    "def square(num):\n",
    "    \"\"\"THIS IS A DOCSTRING.\n",
    "    CAN GO MULTIPLE LINES.\n",
    "    THIS FUNCTION SQUARES A NUMBER\n",
    "    \"\"\"\n",
    "    return num**2"
   ]
  },
  {
   "cell_type": "code",
   "execution_count": 158,
   "id": "08b59628-b932-4879-b0da-4266727d088c",
   "metadata": {},
   "outputs": [],
   "source": [
    "output= square(2)"
   ]
  },
  {
   "cell_type": "code",
   "execution_count": 159,
   "id": "fef2dd7e-fb71-47ac-9909-4ba2b7e1637b",
   "metadata": {},
   "outputs": [
    {
     "data": {
      "text/plain": [
       "4"
      ]
     },
     "execution_count": 159,
     "metadata": {},
     "output_type": "execute_result"
    }
   ],
   "source": [
    "output"
   ]
  },
  {
   "cell_type": "code",
   "execution_count": 160,
   "id": "42d2f0fe-3c78-44c1-afca-a7d74c6968e2",
   "metadata": {},
   "outputs": [
    {
     "data": {
      "text/plain": [
       "<function __main__.square(num)>"
      ]
     },
     "execution_count": 160,
     "metadata": {},
     "output_type": "execute_result"
    }
   ],
   "source": [
    "square"
   ]
  },
  {
   "cell_type": "markdown",
   "id": "b5a918cf-a162-4004-8538-98fefd1e0333",
   "metadata": {},
   "source": [
    "RECAP: Defining a function and calling it"
   ]
  },
  {
   "cell_type": "code",
   "execution_count": 161,
   "id": "43ff84c0-e52c-4ca9-9258-a44f618d1279",
   "metadata": {},
   "outputs": [],
   "source": [
    "def times2(var):\n",
    "    return var*2"
   ]
  },
  {
   "cell_type": "code",
   "execution_count": 163,
   "id": "b7eb0f97-ab38-45ce-823e-3d25585b587f",
   "metadata": {},
   "outputs": [
    {
     "data": {
      "text/plain": [
       "10"
      ]
     },
     "execution_count": 163,
     "metadata": {},
     "output_type": "execute_result"
    }
   ],
   "source": [
    "times2(5)"
   ]
  },
  {
   "cell_type": "code",
   "execution_count": 164,
   "id": "faa542eb-9542-4dd5-bd2e-014e79be2706",
   "metadata": {},
   "outputs": [],
   "source": [
    "#map()"
   ]
  },
  {
   "cell_type": "code",
   "execution_count": 165,
   "id": "bc797b7a-d714-4c03-8f17-a7bb7012e69b",
   "metadata": {},
   "outputs": [],
   "source": [
    "seq = [1,2,3,4,5]"
   ]
  },
  {
   "cell_type": "code",
   "execution_count": 166,
   "id": "61007447-a364-4a0f-a024-ba52d8f8a651",
   "metadata": {},
   "outputs": [
    {
     "data": {
      "text/plain": [
       "<map at 0x16e11d24c70>"
      ]
     },
     "execution_count": 166,
     "metadata": {},
     "output_type": "execute_result"
    }
   ],
   "source": [
    "map(times2,seq)\n"
   ]
  },
  {
   "cell_type": "markdown",
   "id": "d3d4b633-a740-4cc3-a259-4eaf47607cad",
   "metadata": {},
   "source": [
    "Make a list to return the values"
   ]
  },
  {
   "cell_type": "code",
   "execution_count": 167,
   "id": "a218e3d1-a52d-4ea8-9e56-d4d723699bfb",
   "metadata": {},
   "outputs": [
    {
     "data": {
      "text/plain": [
       "[2, 4, 6, 8, 10]"
      ]
     },
     "execution_count": 167,
     "metadata": {},
     "output_type": "execute_result"
    }
   ],
   "source": [
    "list(map(times2,seq))"
   ]
  },
  {
   "cell_type": "markdown",
   "id": "3a66a3d8-8f06-4ff1-92cd-a7878f0100bc",
   "metadata": {},
   "source": [
    "LAMBDA EXPRESSIONS"
   ]
  },
  {
   "cell_type": "code",
   "execution_count": 169,
   "id": "40270ace-55b0-43ff-9878-7abd8ac1a8c8",
   "metadata": {},
   "outputs": [],
   "source": [
    "t = lambda var:var*2"
   ]
  },
  {
   "cell_type": "code",
   "execution_count": 170,
   "id": "4427e8a8-c2d9-473b-857c-add2a8dc31fc",
   "metadata": {},
   "outputs": [
    {
     "data": {
      "text/plain": [
       "10"
      ]
     },
     "execution_count": 170,
     "metadata": {},
     "output_type": "execute_result"
    }
   ],
   "source": [
    "t(5)"
   ]
  },
  {
   "cell_type": "code",
   "execution_count": 171,
   "id": "cd4808b2-e965-4a4a-906a-6bc7782576ed",
   "metadata": {},
   "outputs": [
    {
     "data": {
      "text/plain": [
       "[3, 6, 9, 12, 15]"
      ]
     },
     "execution_count": 171,
     "metadata": {},
     "output_type": "execute_result"
    }
   ],
   "source": [
    "list(map(lambda var: var*3,seq))"
   ]
  },
  {
   "cell_type": "markdown",
   "id": "42f1fde9-6691-44e6-be94-49bc73c1bc66",
   "metadata": {},
   "source": [
    "FILTER"
   ]
  },
  {
   "cell_type": "code",
   "execution_count": 172,
   "id": "c5f9ed6d-af0d-459b-9c34-b7a5343637b8",
   "metadata": {},
   "outputs": [
    {
     "data": {
      "text/plain": [
       "<filter at 0x16e11d25120>"
      ]
     },
     "execution_count": 172,
     "metadata": {},
     "output_type": "execute_result"
    }
   ],
   "source": [
    "filter(lambda item: item%2 == 0,seq)"
   ]
  },
  {
   "cell_type": "code",
   "execution_count": 173,
   "id": "2d1f38f7-37ad-45c1-825f-268b466c4b5a",
   "metadata": {},
   "outputs": [
    {
     "data": {
      "text/plain": [
       "[2, 4]"
      ]
     },
     "execution_count": 173,
     "metadata": {},
     "output_type": "execute_result"
    }
   ],
   "source": [
    "list(filter(lambda item: item%2 == 0,seq))"
   ]
  },
  {
   "cell_type": "markdown",
   "id": "5392764f-2456-49c8-b435-f107dbd6795f",
   "metadata": {},
   "source": [
    "METHODS"
   ]
  },
  {
   "cell_type": "code",
   "execution_count": 176,
   "id": "cdfa8c56-464b-4d14-878e-6c4ae8b9e9d8",
   "metadata": {},
   "outputs": [],
   "source": [
    "s = 'hello my name is Nathalia'"
   ]
  },
  {
   "cell_type": "code",
   "execution_count": 177,
   "id": "bd3957d8-dbec-4c01-9789-fc266fa4c915",
   "metadata": {},
   "outputs": [
    {
     "data": {
      "text/plain": [
       "'HELLO MY NAME IS NATHALIA'"
      ]
     },
     "execution_count": 177,
     "metadata": {},
     "output_type": "execute_result"
    }
   ],
   "source": [
    "s.upper()"
   ]
  },
  {
   "cell_type": "code",
   "execution_count": 178,
   "id": "48e35c4e-4c4d-4e3d-94ce-56fdec01c4ad",
   "metadata": {},
   "outputs": [
    {
     "data": {
      "text/plain": [
       "'hello my name is nathalia'"
      ]
     },
     "execution_count": 178,
     "metadata": {},
     "output_type": "execute_result"
    }
   ],
   "source": [
    "s.lower()"
   ]
  },
  {
   "cell_type": "code",
   "execution_count": 180,
   "id": "4d8e1bd1-601f-4b28-a891-d32418642556",
   "metadata": {},
   "outputs": [
    {
     "data": {
      "text/plain": [
       "['hello', 'my', 'name', 'is', 'Nathalia']"
      ]
     },
     "execution_count": 180,
     "metadata": {},
     "output_type": "execute_result"
    }
   ],
   "source": [
    "s.split()"
   ]
  },
  {
   "cell_type": "code",
   "execution_count": 181,
   "id": "58eec5cd-7bb9-4722-8c4d-c7460360e7d5",
   "metadata": {},
   "outputs": [],
   "source": [
    "tweet = 'Go Sports! #Sports'"
   ]
  },
  {
   "cell_type": "code",
   "execution_count": 182,
   "id": "47344174-ca40-4dbf-92c3-fb7ed5f89214",
   "metadata": {},
   "outputs": [
    {
     "data": {
      "text/plain": [
       "['Go Sports! ', 'Sports']"
      ]
     },
     "execution_count": 182,
     "metadata": {},
     "output_type": "execute_result"
    }
   ],
   "source": [
    "tweet.split('#')"
   ]
  },
  {
   "cell_type": "code",
   "execution_count": 183,
   "id": "8979647e-eb74-4882-bfc9-3752da9df905",
   "metadata": {},
   "outputs": [
    {
     "data": {
      "text/plain": [
       "'Sports'"
      ]
     },
     "execution_count": 183,
     "metadata": {},
     "output_type": "execute_result"
    }
   ],
   "source": [
    "tweet.split('#')[1]"
   ]
  },
  {
   "cell_type": "markdown",
   "id": "01381037-04d7-46bf-995c-3050c215cd5b",
   "metadata": {},
   "source": [
    "DICTIONARIES"
   ]
  },
  {
   "cell_type": "code",
   "execution_count": 185,
   "id": "1e50a72b-3635-4fad-a590-2d07cc6b3fcf",
   "metadata": {},
   "outputs": [],
   "source": [
    "d = {'K1': 1, 'K2': 2}"
   ]
  },
  {
   "cell_type": "code",
   "execution_count": 186,
   "id": "cb721a45-229b-4ee3-96a4-47b136450db4",
   "metadata": {},
   "outputs": [
    {
     "data": {
      "text/plain": [
       "{'K1': 1, 'K2': 2}"
      ]
     },
     "execution_count": 186,
     "metadata": {},
     "output_type": "execute_result"
    }
   ],
   "source": [
    "d"
   ]
  },
  {
   "cell_type": "code",
   "execution_count": 188,
   "id": "35cc1936-fbeb-4e51-a2f6-e188256d0db0",
   "metadata": {},
   "outputs": [
    {
     "data": {
      "text/plain": [
       "dict_keys(['K1', 'K2'])"
      ]
     },
     "execution_count": 188,
     "metadata": {},
     "output_type": "execute_result"
    }
   ],
   "source": [
    "d.keys()"
   ]
  },
  {
   "cell_type": "code",
   "execution_count": 189,
   "id": "48670070-b47e-4236-a88a-25f4fd94c585",
   "metadata": {},
   "outputs": [
    {
     "data": {
      "text/plain": [
       "dict_items([('K1', 1), ('K2', 2)])"
      ]
     },
     "execution_count": 189,
     "metadata": {},
     "output_type": "execute_result"
    }
   ],
   "source": [
    "d.items()"
   ]
  },
  {
   "cell_type": "code",
   "execution_count": 191,
   "id": "5d3463af-cd80-43e1-bccb-f4b927e64f57",
   "metadata": {},
   "outputs": [
    {
     "data": {
      "text/plain": [
       "dict_values([1, 2])"
      ]
     },
     "execution_count": 191,
     "metadata": {},
     "output_type": "execute_result"
    }
   ],
   "source": [
    "d.values()"
   ]
  },
  {
   "cell_type": "markdown",
   "id": "e46a166e-f44b-438b-9289-f216ad815111",
   "metadata": {},
   "source": [
    "LISTS"
   ]
  },
  {
   "cell_type": "code",
   "execution_count": 193,
   "id": "5cbecb54-5f31-43be-be2c-ffc0e904c5a7",
   "metadata": {},
   "outputs": [],
   "source": [
    "lst=[1,2,3]"
   ]
  },
  {
   "cell_type": "code",
   "execution_count": 194,
   "id": "a1fa7a52-5b8a-480a-b4f9-c2e2618e8d6e",
   "metadata": {},
   "outputs": [
    {
     "data": {
      "text/plain": [
       "3"
      ]
     },
     "execution_count": 194,
     "metadata": {},
     "output_type": "execute_result"
    }
   ],
   "source": [
    "lst.pop()"
   ]
  },
  {
   "cell_type": "code",
   "execution_count": 195,
   "id": "5fce6858-3e9c-426b-b9a0-4a3b97e12b4f",
   "metadata": {},
   "outputs": [
    {
     "data": {
      "text/plain": [
       "[1, 2]"
      ]
     },
     "execution_count": 195,
     "metadata": {},
     "output_type": "execute_result"
    }
   ],
   "source": [
    "lst"
   ]
  },
  {
   "cell_type": "code",
   "execution_count": 196,
   "id": "c77a0441-9969-489b-9fde-e70d30b0f6fe",
   "metadata": {},
   "outputs": [],
   "source": [
    "list= [1,2,3,4,5]"
   ]
  },
  {
   "cell_type": "code",
   "execution_count": 197,
   "id": "118e1300-2546-44dd-8351-8fd9d2e0373c",
   "metadata": {},
   "outputs": [],
   "source": [
    "item= list.pop()"
   ]
  },
  {
   "cell_type": "code",
   "execution_count": 198,
   "id": "16c04a3c-90df-4350-abab-fbc0cacab223",
   "metadata": {},
   "outputs": [
    {
     "data": {
      "text/plain": [
       "[1, 2, 3, 4]"
      ]
     },
     "execution_count": 198,
     "metadata": {},
     "output_type": "execute_result"
    }
   ],
   "source": [
    "list"
   ]
  },
  {
   "cell_type": "code",
   "execution_count": 199,
   "id": "c7b03d8f-cc4a-493c-b8f3-6dc04f3ec0ad",
   "metadata": {},
   "outputs": [
    {
     "data": {
      "text/plain": [
       "5"
      ]
     },
     "execution_count": 199,
     "metadata": {},
     "output_type": "execute_result"
    }
   ],
   "source": [
    "item"
   ]
  },
  {
   "cell_type": "code",
   "execution_count": 202,
   "id": "cb921d3d-57e7-46e2-9fff-2b65970a78bd",
   "metadata": {},
   "outputs": [],
   "source": [
    "first= list.pop(0)"
   ]
  },
  {
   "cell_type": "code",
   "execution_count": 203,
   "id": "3079cbbd-44ff-4de9-ad89-d532e9e8dce2",
   "metadata": {},
   "outputs": [
    {
     "data": {
      "text/plain": [
       "[2, 3, 4]"
      ]
     },
     "execution_count": 203,
     "metadata": {},
     "output_type": "execute_result"
    }
   ],
   "source": [
    "list"
   ]
  },
  {
   "cell_type": "code",
   "execution_count": 204,
   "id": "f9113de4-8f35-432a-b011-5e033921ebe9",
   "metadata": {},
   "outputs": [
    {
     "data": {
      "text/plain": [
       "1"
      ]
     },
     "execution_count": 204,
     "metadata": {},
     "output_type": "execute_result"
    }
   ],
   "source": [
    "first"
   ]
  },
  {
   "cell_type": "code",
   "execution_count": 205,
   "id": "e6910e5c-6b24-4cf8-9427-e5488ec77007",
   "metadata": {},
   "outputs": [],
   "source": [
    "list.append('New item')"
   ]
  },
  {
   "cell_type": "code",
   "execution_count": 206,
   "id": "87ae17ed-1e90-4d8d-9719-82cbcb84c0d1",
   "metadata": {},
   "outputs": [
    {
     "data": {
      "text/plain": [
       "[2, 3, 4, 'New item']"
      ]
     },
     "execution_count": 206,
     "metadata": {},
     "output_type": "execute_result"
    }
   ],
   "source": [
    "list"
   ]
  },
  {
   "cell_type": "markdown",
   "id": "cf20eeed-48a2-4456-9228-c838659f32dc",
   "metadata": {},
   "source": [
    "IN OPERATOR"
   ]
  },
  {
   "cell_type": "code",
   "execution_count": 207,
   "id": "6609f2de-3ff1-40dc-b038-289b1fb5740d",
   "metadata": {},
   "outputs": [
    {
     "data": {
      "text/plain": [
       "False"
      ]
     },
     "execution_count": 207,
     "metadata": {},
     "output_type": "execute_result"
    }
   ],
   "source": [
    "'x' in [1,2,3]"
   ]
  },
  {
   "cell_type": "code",
   "execution_count": 208,
   "id": "fd69e12a-93d8-4f48-b363-28ab32da6574",
   "metadata": {},
   "outputs": [
    {
     "data": {
      "text/plain": [
       "True"
      ]
     },
     "execution_count": 208,
     "metadata": {},
     "output_type": "execute_result"
    }
   ],
   "source": [
    "'x' in ['x','y','z']"
   ]
  },
  {
   "cell_type": "markdown",
   "id": "08728f7c-41da-4239-a040-3d7be2f563e5",
   "metadata": {},
   "source": [
    "TUPLE UNPACKING"
   ]
  },
  {
   "cell_type": "code",
   "execution_count": 209,
   "id": "7a8181d5-bc94-4ec7-b3f6-bb4ff01f1e26",
   "metadata": {},
   "outputs": [],
   "source": [
    "x = [(1,2),(3,4),(5,6)]"
   ]
  },
  {
   "cell_type": "code",
   "execution_count": 210,
   "id": "b29b4afb-cab7-477e-a8d8-dffd04bbc744",
   "metadata": {},
   "outputs": [
    {
     "data": {
      "text/plain": [
       "(1, 2)"
      ]
     },
     "execution_count": 210,
     "metadata": {},
     "output_type": "execute_result"
    }
   ],
   "source": [
    "x[0]"
   ]
  },
  {
   "cell_type": "code",
   "execution_count": 211,
   "id": "c7ecccb3-03c2-4972-b480-04c20d8f0462",
   "metadata": {},
   "outputs": [
    {
     "data": {
      "text/plain": [
       "1"
      ]
     },
     "execution_count": 211,
     "metadata": {},
     "output_type": "execute_result"
    }
   ],
   "source": [
    "x[0][0]"
   ]
  },
  {
   "cell_type": "code",
   "execution_count": 212,
   "id": "fafe0e78-52dc-44e6-b899-a660dafe8c69",
   "metadata": {},
   "outputs": [
    {
     "name": "stdout",
     "output_type": "stream",
     "text": [
      "(1, 2)\n",
      "(3, 4)\n",
      "(5, 6)\n"
     ]
    }
   ],
   "source": [
    "for item in x:\n",
    "    print(item)"
   ]
  },
  {
   "cell_type": "code",
   "execution_count": 213,
   "id": "cf18d582-48f8-4ff8-9b83-723b790622a9",
   "metadata": {},
   "outputs": [
    {
     "name": "stdout",
     "output_type": "stream",
     "text": [
      "1\n",
      "3\n",
      "5\n"
     ]
    }
   ],
   "source": [
    "for (a,b) in x:\n",
    "    print(a)"
   ]
  },
  {
   "cell_type": "code",
   "execution_count": 214,
   "id": "ebc81fd4-063e-47e0-9f68-5206556bd1a3",
   "metadata": {},
   "outputs": [
    {
     "name": "stdout",
     "output_type": "stream",
     "text": [
      "2\n",
      "4\n",
      "6\n"
     ]
    }
   ],
   "source": [
    "for (a,b) in x:\n",
    "    print(b)"
   ]
  },
  {
   "cell_type": "code",
   "execution_count": null,
   "id": "2699675b-2d6a-4998-a76e-5566e1877846",
   "metadata": {},
   "outputs": [],
   "source": []
  }
 ],
 "metadata": {
  "kernelspec": {
   "display_name": "Python 3 (ipykernel)",
   "language": "python",
   "name": "python3"
  },
  "language_info": {
   "codemirror_mode": {
    "name": "ipython",
    "version": 3
   },
   "file_extension": ".py",
   "mimetype": "text/x-python",
   "name": "python",
   "nbconvert_exporter": "python",
   "pygments_lexer": "ipython3",
   "version": "3.13.5"
  }
 },
 "nbformat": 4,
 "nbformat_minor": 5
}
