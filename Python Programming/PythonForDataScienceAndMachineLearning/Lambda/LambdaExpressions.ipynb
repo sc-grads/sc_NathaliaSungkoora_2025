{
 "cells": [
  {
   "cell_type": "code",
   "execution_count": 1,
   "id": "c9ebcc1c-08c8-4980-8a2c-70dc9982820d",
   "metadata": {},
   "outputs": [],
   "source": [
    "def square(num):\n",
    "    result = num**2\n",
    "    return result"
   ]
  },
  {
   "cell_type": "code",
   "execution_count": 2,
   "id": "e87f34a0-0700-4ddc-861f-6d60a0d7fc91",
   "metadata": {},
   "outputs": [
    {
     "data": {
      "text/plain": [
       "16"
      ]
     },
     "execution_count": 2,
     "metadata": {},
     "output_type": "execute_result"
    }
   ],
   "source": [
    "square(4)"
   ]
  },
  {
   "cell_type": "code",
   "execution_count": 3,
   "id": "7d8f0051-4b38-4984-95a4-bded35431f21",
   "metadata": {},
   "outputs": [],
   "source": [
    "def square(num):\n",
    "    return num**2"
   ]
  },
  {
   "cell_type": "code",
   "execution_count": 4,
   "id": "c3f38799-856d-4f98-ac52-ca00d2851ffb",
   "metadata": {},
   "outputs": [
    {
     "data": {
      "text/plain": [
       "16"
      ]
     },
     "execution_count": 4,
     "metadata": {},
     "output_type": "execute_result"
    }
   ],
   "source": [
    "square(4)"
   ]
  },
  {
   "cell_type": "code",
   "execution_count": 5,
   "id": "0f61c9c9-1662-4b00-9bdb-132fc6317af5",
   "metadata": {},
   "outputs": [],
   "source": [
    "def square(num): return num**2"
   ]
  },
  {
   "cell_type": "code",
   "execution_count": 6,
   "id": "9ddb2b46-0957-4503-8b63-8f9001a02d01",
   "metadata": {},
   "outputs": [
    {
     "data": {
      "text/plain": [
       "4"
      ]
     },
     "execution_count": 6,
     "metadata": {},
     "output_type": "execute_result"
    }
   ],
   "source": [
    "square(2)"
   ]
  },
  {
   "cell_type": "code",
   "execution_count": 7,
   "id": "fdda847a-5adc-47a6-b205-017ea3caf67f",
   "metadata": {},
   "outputs": [
    {
     "data": {
      "text/plain": [
       "<function __main__.<lambda>(num)>"
      ]
     },
     "execution_count": 7,
     "metadata": {},
     "output_type": "execute_result"
    }
   ],
   "source": [
    "lambda num: num**2"
   ]
  },
  {
   "cell_type": "code",
   "execution_count": 8,
   "id": "be196513-62cc-40c5-95c4-bb44ab69468b",
   "metadata": {},
   "outputs": [],
   "source": [
    "sq= lambda num: num**2"
   ]
  },
  {
   "cell_type": "code",
   "execution_count": 9,
   "id": "dcbaacbd-e1b4-461b-86d4-a425c76bb2a8",
   "metadata": {},
   "outputs": [
    {
     "data": {
      "text/plain": [
       "25"
      ]
     },
     "execution_count": 9,
     "metadata": {},
     "output_type": "execute_result"
    }
   ],
   "source": [
    "sq(5)"
   ]
  },
  {
   "cell_type": "code",
   "execution_count": 11,
   "id": "b75a3aa4-73e8-490a-bd81-4b0e167e44f5",
   "metadata": {},
   "outputs": [],
   "source": [
    "even = lambda num: num%2 ==0"
   ]
  },
  {
   "cell_type": "code",
   "execution_count": 12,
   "id": "87243e1e-81bc-4083-8185-739ed34b8f4e",
   "metadata": {},
   "outputs": [
    {
     "data": {
      "text/plain": [
       "False"
      ]
     },
     "execution_count": 12,
     "metadata": {},
     "output_type": "execute_result"
    }
   ],
   "source": [
    "even(3)"
   ]
  },
  {
   "cell_type": "code",
   "execution_count": 14,
   "id": "c404a212-7483-4e1e-b4a4-30ce515bee86",
   "metadata": {},
   "outputs": [
    {
     "data": {
      "text/plain": [
       "True"
      ]
     },
     "execution_count": 14,
     "metadata": {},
     "output_type": "execute_result"
    }
   ],
   "source": [
    "even(4)"
   ]
  },
  {
   "cell_type": "code",
   "execution_count": 15,
   "id": "369eb6af-7e16-420b-8554-62263cedf5d1",
   "metadata": {},
   "outputs": [],
   "source": [
    "#return first character of a string\n",
    "first= lambda s: s[0]"
   ]
  },
  {
   "cell_type": "code",
   "execution_count": 16,
   "id": "94bfc480-4f98-45ed-893c-e4957d01937d",
   "metadata": {},
   "outputs": [
    {
     "data": {
      "text/plain": [
       "'a'"
      ]
     },
     "execution_count": 16,
     "metadata": {},
     "output_type": "execute_result"
    }
   ],
   "source": [
    "first('asdboasfdf')"
   ]
  },
  {
   "cell_type": "code",
   "execution_count": 17,
   "id": "ea888320-be2d-4926-94fd-749f4213707b",
   "metadata": {},
   "outputs": [],
   "source": [
    "rev =  lambda s: s[::-1]"
   ]
  },
  {
   "cell_type": "code",
   "execution_count": 18,
   "id": "3e7d4381-d3a9-412d-b5b0-3c7ddc2e9ffd",
   "metadata": {},
   "outputs": [
    {
     "data": {
      "text/plain": [
       "'edcba'"
      ]
     },
     "execution_count": 18,
     "metadata": {},
     "output_type": "execute_result"
    }
   ],
   "source": [
    "rev('abcde')"
   ]
  },
  {
   "cell_type": "code",
   "execution_count": 21,
   "id": "e2e464a6-3b97-46c9-b989-516aca3218fa",
   "metadata": {},
   "outputs": [],
   "source": [
    "#Can accept more than one function in a lambda expression\n",
    "def adder(x,y):\n",
    "    return x+y"
   ]
  },
  {
   "cell_type": "code",
   "execution_count": 22,
   "id": "48892529-e8f7-4595-b356-eeb48d7d064c",
   "metadata": {},
   "outputs": [
    {
     "data": {
      "text/plain": [
       "5"
      ]
     },
     "execution_count": 22,
     "metadata": {},
     "output_type": "execute_result"
    }
   ],
   "source": [
    "adder(2,3)"
   ]
  },
  {
   "cell_type": "code",
   "execution_count": 24,
   "id": "e244f42f-9320-4953-be3e-add2ba277cc7",
   "metadata": {},
   "outputs": [],
   "source": [
    "adderlam = lambda x,y: x+y"
   ]
  },
  {
   "cell_type": "code",
   "execution_count": 25,
   "id": "366e64c9-0e8d-4a00-b536-1fc516a5e677",
   "metadata": {},
   "outputs": [
    {
     "data": {
      "text/plain": [
       "5"
      ]
     },
     "execution_count": 25,
     "metadata": {},
     "output_type": "execute_result"
    }
   ],
   "source": [
    "adderlam(2,3)"
   ]
  },
  {
   "cell_type": "code",
   "execution_count": null,
   "id": "3c5ad11e-d37d-4417-ab24-a857da929b51",
   "metadata": {},
   "outputs": [],
   "source": []
  }
 ],
 "metadata": {
  "kernelspec": {
   "display_name": "Python 3 (ipykernel)",
   "language": "python",
   "name": "python3"
  },
  "language_info": {
   "codemirror_mode": {
    "name": "ipython",
    "version": 3
   },
   "file_extension": ".py",
   "mimetype": "text/x-python",
   "name": "python",
   "nbconvert_exporter": "python",
   "pygments_lexer": "ipython3",
   "version": "3.13.5"
  }
 },
 "nbformat": 4,
 "nbformat_minor": 5
}
