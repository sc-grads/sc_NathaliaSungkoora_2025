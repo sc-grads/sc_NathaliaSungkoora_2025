{
 "cells": [
  {
   "cell_type": "code",
   "execution_count": 1,
   "id": "b6f5b150-4a36-490d-86c2-6a642a93602d",
   "metadata": {},
   "outputs": [
    {
     "name": "stdout",
     "output_type": "stream",
     "text": [
      "Jupyter detected...\n",
      "3 channel Terms of Service accepted\n",
      "Channels:\n",
      " - defaults\n",
      "Platform: win-64\n",
      "Collecting package metadata (repodata.json): done\n",
      "Solving environment: done\n",
      "\n",
      "## Package Plan ##\n",
      "\n",
      "  environment location: C:\\Users\\NathaliaSungkoora\\anaconda3\n",
      "\n",
      "  added / updated specs:\n",
      "    - numpy\n",
      "\n",
      "\n",
      "The following packages will be UPDATED:\n",
      "\n",
      "  ca-certificates                      2025.2.25-haa95532_0 --> 2025.7.15-haa95532_0 \n",
      "  certifi                         2025.4.26-py313haa95532_0 --> 2025.8.3-py313haa95532_0 \n",
      "\n",
      "\n",
      "\n",
      "Downloading and Extracting Packages: ...working... done\n",
      "Preparing transaction: done\n",
      "Verifying transaction: done\n",
      "Executing transaction: done\n",
      "\n",
      "Note: you may need to restart the kernel to use updated packages.\n"
     ]
    },
    {
     "name": "stderr",
     "output_type": "stream",
     "text": [
      "\n",
      "\n",
      "==> WARNING: A newer version of conda exists. <==\n",
      "    current version: 25.5.1\n",
      "    latest version: 25.7.0\n",
      "\n",
      "Please update conda by running\n",
      "\n",
      "    $ conda update -n base -c defaults conda\n",
      "\n",
      "\n"
     ]
    }
   ],
   "source": [
    "conda install numpy"
   ]
  },
  {
   "cell_type": "code",
   "execution_count": 2,
   "id": "ec324a53-a14f-4b8b-af3b-499efcad2e60",
   "metadata": {},
   "outputs": [],
   "source": [
    "import numpy as np"
   ]
  },
  {
   "cell_type": "code",
   "execution_count": 4,
   "id": "7660f162-42c0-444a-88bd-deb2c3e14fe5",
   "metadata": {},
   "outputs": [],
   "source": [
    "my_list = [1,2,3]"
   ]
  },
  {
   "cell_type": "code",
   "execution_count": 5,
   "id": "bf526ec4-2c00-4449-9266-489f5d94b07d",
   "metadata": {},
   "outputs": [
    {
     "data": {
      "text/plain": [
       "[1, 2, 3]"
      ]
     },
     "execution_count": 5,
     "metadata": {},
     "output_type": "execute_result"
    }
   ],
   "source": [
    "my_list"
   ]
  },
  {
   "cell_type": "code",
   "execution_count": 7,
   "id": "6df1f075-0bb8-4f7e-885e-277678274680",
   "metadata": {},
   "outputs": [],
   "source": [
    "arr = np.array(my_list)"
   ]
  },
  {
   "cell_type": "code",
   "execution_count": 8,
   "id": "00c7e987-095d-4d41-9dc2-fbe9b18293fe",
   "metadata": {},
   "outputs": [
    {
     "data": {
      "text/plain": [
       "array([1, 2, 3])"
      ]
     },
     "execution_count": 8,
     "metadata": {},
     "output_type": "execute_result"
    }
   ],
   "source": [
    "arr"
   ]
  },
  {
   "cell_type": "code",
   "execution_count": 9,
   "id": "3507ff83-a208-471b-8cad-2baa9c122ef5",
   "metadata": {},
   "outputs": [],
   "source": [
    "my_matrix = [[1,2,3],[4,5,6],[7,8,9]]"
   ]
  },
  {
   "cell_type": "code",
   "execution_count": 10,
   "id": "421a6b28-ed8f-474b-aa62-f131bffb4c96",
   "metadata": {},
   "outputs": [
    {
     "data": {
      "text/plain": [
       "[[1, 2, 3], [4, 5, 6], [7, 8, 9]]"
      ]
     },
     "execution_count": 10,
     "metadata": {},
     "output_type": "execute_result"
    }
   ],
   "source": [
    "my_matrix"
   ]
  },
  {
   "cell_type": "markdown",
   "id": "937bd712-c51e-49cd-9bc4-664f67a641f1",
   "metadata": {},
   "source": [
    "Casting to an array = 2D Array"
   ]
  },
  {
   "cell_type": "code",
   "execution_count": 11,
   "id": "348bce57-50f6-4cee-83d1-1deae5070d0a",
   "metadata": {},
   "outputs": [
    {
     "data": {
      "text/plain": [
       "array([[1, 2, 3],\n",
       "       [4, 5, 6],\n",
       "       [7, 8, 9]])"
      ]
     },
     "execution_count": 11,
     "metadata": {},
     "output_type": "execute_result"
    }
   ],
   "source": [
    "np.array(my_matrix)"
   ]
  },
  {
   "cell_type": "code",
   "execution_count": 14,
   "id": "81039efe-e98b-4c41-bf65-ef7d319c910b",
   "metadata": {},
   "outputs": [
    {
     "data": {
      "text/plain": [
       "array([0, 1, 2, 3, 4, 5, 6, 7, 8, 9])"
      ]
     },
     "execution_count": 14,
     "metadata": {},
     "output_type": "execute_result"
    }
   ],
   "source": [
    "np.arange(0, 10)"
   ]
  },
  {
   "cell_type": "markdown",
   "id": "cb2f940d-1e7b-4b3a-b85a-33037d4c9a62",
   "metadata": {},
   "source": [
    "All even values (use step size)"
   ]
  },
  {
   "cell_type": "code",
   "execution_count": 15,
   "id": "11f62b22-8086-4389-b758-0d48dc65c2e5",
   "metadata": {},
   "outputs": [
    {
     "data": {
      "text/plain": [
       "array([ 0,  2,  4,  6,  8, 10])"
      ]
     },
     "execution_count": 15,
     "metadata": {},
     "output_type": "execute_result"
    }
   ],
   "source": [
    "np.arange(0, 11,2)"
   ]
  },
  {
   "cell_type": "markdown",
   "id": "63f81458-f032-4f90-bb0c-c428a1f18aab",
   "metadata": {},
   "source": [
    "Generate arrays of zeros or ones"
   ]
  },
  {
   "cell_type": "markdown",
   "id": "6d0621bf-696c-40b5-97ea-c49fc79ea3d5",
   "metadata": {},
   "source": [
    "ZEROS"
   ]
  },
  {
   "cell_type": "code",
   "execution_count": 16,
   "id": "342dbe54-8d10-41d5-b47c-e23f52709cf3",
   "metadata": {},
   "outputs": [
    {
     "data": {
      "text/plain": [
       "array([0., 0., 0.])"
      ]
     },
     "execution_count": 16,
     "metadata": {},
     "output_type": "execute_result"
    }
   ],
   "source": [
    "np.zeros(3)"
   ]
  },
  {
   "cell_type": "markdown",
   "id": "308a15d7-b8f7-44e3-92ba-dd51bdb6afef",
   "metadata": {},
   "source": [
    "Passing a tuple if dimenesions that you want"
   ]
  },
  {
   "cell_type": "code",
   "execution_count": 17,
   "id": "982756f4-ae12-4e40-b4d6-96a1d33bf56a",
   "metadata": {},
   "outputs": [
    {
     "data": {
      "text/plain": [
       "array([[0., 0., 0., 0., 0.],\n",
       "       [0., 0., 0., 0., 0.],\n",
       "       [0., 0., 0., 0., 0.],\n",
       "       [0., 0., 0., 0., 0.],\n",
       "       [0., 0., 0., 0., 0.]])"
      ]
     },
     "execution_count": 17,
     "metadata": {},
     "output_type": "execute_result"
    }
   ],
   "source": [
    "np.zeros((5,5))"
   ]
  },
  {
   "cell_type": "markdown",
   "id": "df4073ac-0415-4506-9777-88c796573c6c",
   "metadata": {},
   "source": [
    "Two rows with three columns"
   ]
  },
  {
   "cell_type": "code",
   "execution_count": 19,
   "id": "0451f558-38b2-47a7-bba9-1abd0c294b99",
   "metadata": {},
   "outputs": [
    {
     "data": {
      "text/plain": [
       "array([[0., 0., 0.],\n",
       "       [0., 0., 0.]])"
      ]
     },
     "execution_count": 19,
     "metadata": {},
     "output_type": "execute_result"
    }
   ],
   "source": [
    "np.zeros((2,3))"
   ]
  },
  {
   "cell_type": "markdown",
   "id": "184b44c4-fe36-4fed-b3d7-44764ebc8ce1",
   "metadata": {},
   "source": [
    "ONES"
   ]
  },
  {
   "cell_type": "code",
   "execution_count": 20,
   "id": "5fb29d64-0dc7-4fdc-a3e4-ae415aec412a",
   "metadata": {},
   "outputs": [
    {
     "data": {
      "text/plain": [
       "array([1., 1., 1.])"
      ]
     },
     "execution_count": 20,
     "metadata": {},
     "output_type": "execute_result"
    }
   ],
   "source": [
    "np.ones(3)"
   ]
  },
  {
   "cell_type": "markdown",
   "id": "c5a2727d-db0e-4f07-81fe-113690fe08e6",
   "metadata": {},
   "source": [
    "Three rows and four columns of ONES"
   ]
  },
  {
   "cell_type": "code",
   "execution_count": 22,
   "id": "87cf3dca-88b0-4e43-95e0-97b04b44949b",
   "metadata": {},
   "outputs": [
    {
     "data": {
      "text/plain": [
       "array([[1., 1., 1., 1.],\n",
       "       [1., 1., 1., 1.],\n",
       "       [1., 1., 1., 1.]])"
      ]
     },
     "execution_count": 22,
     "metadata": {},
     "output_type": "execute_result"
    }
   ],
   "source": [
    "np.ones((3,4))"
   ]
  },
  {
   "cell_type": "markdown",
   "id": "222a0fc0-2f17-44f2-9a32-83cf2658e34b",
   "metadata": {},
   "source": [
    "LINSPACE"
   ]
  },
  {
   "cell_type": "markdown",
   "id": "8b994d94-fd6d-4285-b7d0-ce48ebab124a",
   "metadata": {},
   "source": [
    "Start num=0, End num=5, number points=10 (returns 1D vector)"
   ]
  },
  {
   "cell_type": "code",
   "execution_count": 23,
   "id": "ff6c125c-e921-4ead-a497-585f8d013fca",
   "metadata": {},
   "outputs": [
    {
     "data": {
      "text/plain": [
       "array([0.        , 0.55555556, 1.11111111, 1.66666667, 2.22222222,\n",
       "       2.77777778, 3.33333333, 3.88888889, 4.44444444, 5.        ])"
      ]
     },
     "execution_count": 23,
     "metadata": {},
     "output_type": "execute_result"
    }
   ],
   "source": [
    "np.linspace(0,5,10)"
   ]
  },
  {
   "cell_type": "code",
   "execution_count": 24,
   "id": "5fec9e8f-6c43-455c-8fc0-7ce9876cac64",
   "metadata": {},
   "outputs": [
    {
     "data": {
      "text/plain": [
       "array([ 0.,  5., 10.])"
      ]
     },
     "execution_count": 24,
     "metadata": {},
     "output_type": "execute_result"
    }
   ],
   "source": [
    "np.linspace(0,10,3)"
   ]
  },
  {
   "cell_type": "markdown",
   "id": "99a4b829-beda-45a5-87d3-78593b3d2afa",
   "metadata": {},
   "source": [
    "eye->Creates an identity matrix"
   ]
  },
  {
   "cell_type": "code",
   "execution_count": 25,
   "id": "ff2ac710-aba5-4bff-a852-a791efd2ab52",
   "metadata": {},
   "outputs": [
    {
     "data": {
      "text/plain": [
       "array([[1., 0., 0., 0.],\n",
       "       [0., 1., 0., 0.],\n",
       "       [0., 0., 1., 0.],\n",
       "       [0., 0., 0., 1.]])"
      ]
     },
     "execution_count": 25,
     "metadata": {},
     "output_type": "execute_result"
    }
   ],
   "source": [
    "np.eye(4)"
   ]
  },
  {
   "cell_type": "markdown",
   "id": "127ed13d-e7a7-4e67-9ae7-3a7e9d418a4a",
   "metadata": {},
   "source": [
    "Numpy also has lots of ways to create random number arrays"
   ]
  },
  {
   "cell_type": "code",
   "execution_count": 26,
   "id": "e87ad020-c453-44f7-9be7-e2c0b3d830ad",
   "metadata": {},
   "outputs": [
    {
     "data": {
      "text/plain": [
       "array([0.32205896, 0.2754554 ])"
      ]
     },
     "execution_count": 26,
     "metadata": {},
     "output_type": "execute_result"
    }
   ],
   "source": [
    "np.random.rand(2)"
   ]
  },
  {
   "cell_type": "code",
   "execution_count": 27,
   "id": "d17ef934-c197-4d92-878d-91c7b08fa46d",
   "metadata": {},
   "outputs": [
    {
     "data": {
      "text/plain": [
       "array([[0.51417814, 0.29915722, 0.97041854, 0.19391659, 0.00538558],\n",
       "       [0.68880931, 0.79066424, 0.1611819 , 0.88524993, 0.74140075],\n",
       "       [0.09333633, 0.13901485, 0.26668815, 0.75836394, 0.82806412],\n",
       "       [0.2477862 , 0.09150441, 0.13480467, 0.3908029 , 0.44795483],\n",
       "       [0.84451453, 0.14047073, 0.12095524, 0.01744948, 0.51272957]])"
      ]
     },
     "execution_count": 27,
     "metadata": {},
     "output_type": "execute_result"
    }
   ],
   "source": [
    "np.random.rand(5,5)"
   ]
  },
  {
   "cell_type": "code",
   "execution_count": 28,
   "id": "c953f14f-09a4-4896-9fa2-9f13d2204ef0",
   "metadata": {},
   "outputs": [
    {
     "data": {
      "text/plain": [
       "array([1.03666409, 0.94474743])"
      ]
     },
     "execution_count": 28,
     "metadata": {},
     "output_type": "execute_result"
    }
   ],
   "source": [
    "np.random.randn(2)"
   ]
  },
  {
   "cell_type": "code",
   "execution_count": 29,
   "id": "8be183d3-9505-4ff7-96f7-7bf769560f6d",
   "metadata": {},
   "outputs": [
    {
     "data": {
      "text/plain": [
       "array([[-0.23419716,  0.41258929,  0.70471822, -2.21799334],\n",
       "       [-2.24547248,  0.68698293, -1.72593234,  1.19345527],\n",
       "       [-0.65611079,  1.86525769, -0.27928478, -1.16456195],\n",
       "       [ 1.28783136,  0.53230903, -0.87970758,  0.2472598 ]])"
      ]
     },
     "execution_count": 29,
     "metadata": {},
     "output_type": "execute_result"
    }
   ],
   "source": [
    "np.random.randn(4,4)"
   ]
  },
  {
   "cell_type": "code",
   "execution_count": 30,
   "id": "2b8caedc-edec-4427-b739-2a1e126fd09a",
   "metadata": {},
   "outputs": [
    {
     "data": {
      "text/plain": [
       "26"
      ]
     },
     "execution_count": 30,
     "metadata": {},
     "output_type": "execute_result"
    }
   ],
   "source": [
    "np.random.randint(1,100)"
   ]
  },
  {
   "cell_type": "code",
   "execution_count": 31,
   "id": "8fb7b17d-70fe-4eef-80d9-581950396d08",
   "metadata": {},
   "outputs": [
    {
     "data": {
      "text/plain": [
       "array([ 2, 98, 47, 57, 39, 75, 17, 92, 68, 76], dtype=int32)"
      ]
     },
     "execution_count": 31,
     "metadata": {},
     "output_type": "execute_result"
    }
   ],
   "source": [
    "np.random.randint(1,100,10)"
   ]
  },
  {
   "cell_type": "markdown",
   "id": "97bc01c9-cf3c-4617-b8c8-b52962e38cf8",
   "metadata": {},
   "source": [
    "Example of ARRAYS AND METHODS"
   ]
  },
  {
   "cell_type": "code",
   "execution_count": 32,
   "id": "d58b86fb-7bbe-470e-91f6-9d4859c6b119",
   "metadata": {},
   "outputs": [],
   "source": [
    "arr = np.arange(25)"
   ]
  },
  {
   "cell_type": "code",
   "execution_count": 33,
   "id": "c353ef7f-b793-492e-90c6-8a5b03b82ed0",
   "metadata": {},
   "outputs": [
    {
     "data": {
      "text/plain": [
       "array([ 0,  1,  2,  3,  4,  5,  6,  7,  8,  9, 10, 11, 12, 13, 14, 15, 16,\n",
       "       17, 18, 19, 20, 21, 22, 23, 24])"
      ]
     },
     "execution_count": 33,
     "metadata": {},
     "output_type": "execute_result"
    }
   ],
   "source": [
    "arr"
   ]
  },
  {
   "cell_type": "code",
   "execution_count": 34,
   "id": "7b5fd167-cf36-4c8c-b550-cc134be6378b",
   "metadata": {},
   "outputs": [],
   "source": [
    "ranarr = np.random.randint(0,50,10)"
   ]
  },
  {
   "cell_type": "code",
   "execution_count": 35,
   "id": "696233f1-bf3a-4993-859a-3ed1e56a24d8",
   "metadata": {},
   "outputs": [
    {
     "data": {
      "text/plain": [
       "array([11, 28, 37,  5, 35, 15, 32, 40, 40, 32], dtype=int32)"
      ]
     },
     "execution_count": 35,
     "metadata": {},
     "output_type": "execute_result"
    }
   ],
   "source": [
    "ranarr"
   ]
  },
  {
   "cell_type": "markdown",
   "id": "8dd2b20c-4835-4184-966f-e56b8b016491",
   "metadata": {},
   "source": [
    "Reshape->Returns an array containing the same data with a new shape."
   ]
  },
  {
   "cell_type": "code",
   "execution_count": 36,
   "id": "ea9c8356-5123-4f59-a52c-7783952e52e5",
   "metadata": {},
   "outputs": [
    {
     "data": {
      "text/plain": [
       "array([[ 0,  1,  2,  3,  4],\n",
       "       [ 5,  6,  7,  8,  9],\n",
       "       [10, 11, 12, 13, 14],\n",
       "       [15, 16, 17, 18, 19],\n",
       "       [20, 21, 22, 23, 24]])"
      ]
     },
     "execution_count": 36,
     "metadata": {},
     "output_type": "execute_result"
    }
   ],
   "source": [
    "arr.reshape(5,5)"
   ]
  },
  {
   "cell_type": "markdown",
   "id": "54542428-5159-4a57-881f-b4a244eccde9",
   "metadata": {},
   "source": [
    "MAX and MIN Values"
   ]
  },
  {
   "cell_type": "code",
   "execution_count": 37,
   "id": "eee40730-f3fa-48b6-aa64-85caa438b1e0",
   "metadata": {},
   "outputs": [
    {
     "data": {
      "text/plain": [
       "array([11, 28, 37,  5, 35, 15, 32, 40, 40, 32], dtype=int32)"
      ]
     },
     "execution_count": 37,
     "metadata": {},
     "output_type": "execute_result"
    }
   ],
   "source": [
    "ranarr"
   ]
  },
  {
   "cell_type": "code",
   "execution_count": 38,
   "id": "d5da7ace-dbeb-44f3-ae8e-375c93f3f460",
   "metadata": {},
   "outputs": [
    {
     "data": {
      "text/plain": [
       "np.int32(40)"
      ]
     },
     "execution_count": 38,
     "metadata": {},
     "output_type": "execute_result"
    }
   ],
   "source": [
    "ranarr.max()"
   ]
  },
  {
   "cell_type": "code",
   "execution_count": 39,
   "id": "992d6326-ff8c-4cbb-b3b0-5a86d7514496",
   "metadata": {},
   "outputs": [
    {
     "data": {
      "text/plain": [
       "np.int32(5)"
      ]
     },
     "execution_count": 39,
     "metadata": {},
     "output_type": "execute_result"
    }
   ],
   "source": [
    "ranarr.min()"
   ]
  },
  {
   "cell_type": "code",
   "execution_count": 40,
   "id": "ba6eb8c4-c60b-4075-8537-a852227c9dd9",
   "metadata": {},
   "outputs": [
    {
     "data": {
      "text/plain": [
       "np.int64(3)"
      ]
     },
     "execution_count": 40,
     "metadata": {},
     "output_type": "execute_result"
    }
   ],
   "source": [
    "ranarr.argmin()"
   ]
  },
  {
   "cell_type": "code",
   "execution_count": 41,
   "id": "92c2a0e0-3ed1-4287-ac37-422aa6d41d19",
   "metadata": {},
   "outputs": [
    {
     "data": {
      "text/plain": [
       "np.int64(7)"
      ]
     },
     "execution_count": 41,
     "metadata": {},
     "output_type": "execute_result"
    }
   ],
   "source": [
    "ranarr.argmax()"
   ]
  },
  {
   "cell_type": "code",
   "execution_count": 42,
   "id": "03343d9f-0e89-4f01-b153-5fd062a33c58",
   "metadata": {},
   "outputs": [
    {
     "data": {
      "text/plain": [
       "(25,)"
      ]
     },
     "execution_count": 42,
     "metadata": {},
     "output_type": "execute_result"
    }
   ],
   "source": [
    "# Vector\n",
    "#One Dimensional\n",
    "arr.shape"
   ]
  },
  {
   "cell_type": "code",
   "execution_count": 43,
   "id": "578f75d0-cfc1-4a95-a6d6-b9d754118718",
   "metadata": {},
   "outputs": [],
   "source": [
    "# Notice the two sets of brackets\n",
    "arr = arr.reshape(5,5)"
   ]
  },
  {
   "cell_type": "code",
   "execution_count": 44,
   "id": "805635d6-cf4a-4e42-b589-9353640936d2",
   "metadata": {},
   "outputs": [
    {
     "data": {
      "text/plain": [
       "array([[ 0,  1,  2,  3,  4],\n",
       "       [ 5,  6,  7,  8,  9],\n",
       "       [10, 11, 12, 13, 14],\n",
       "       [15, 16, 17, 18, 19],\n",
       "       [20, 21, 22, 23, 24]])"
      ]
     },
     "execution_count": 44,
     "metadata": {},
     "output_type": "execute_result"
    }
   ],
   "source": [
    "arr"
   ]
  },
  {
   "cell_type": "code",
   "execution_count": 46,
   "id": "ffa3a198-f623-43d5-aa3e-a65ea2fca7d5",
   "metadata": {},
   "outputs": [
    {
     "data": {
      "text/plain": [
       "(5, 5)"
      ]
     },
     "execution_count": 46,
     "metadata": {},
     "output_type": "execute_result"
    }
   ],
   "source": [
    "#Two Dimensional\n",
    "arr.shape"
   ]
  },
  {
   "cell_type": "code",
   "execution_count": 47,
   "id": "feb3bcea-11ef-4461-89fb-319ac251d490",
   "metadata": {},
   "outputs": [],
   "source": [
    "#Get datatype of array"
   ]
  },
  {
   "cell_type": "code",
   "execution_count": 48,
   "id": "797334e9-37a1-4276-af02-9d480d07ea17",
   "metadata": {},
   "outputs": [
    {
     "data": {
      "text/plain": [
       "dtype('int64')"
      ]
     },
     "execution_count": 48,
     "metadata": {},
     "output_type": "execute_result"
    }
   ],
   "source": [
    "arr.dtype"
   ]
  },
  {
   "cell_type": "code",
   "execution_count": null,
   "id": "aedeb4d4-d70b-4fd2-9b77-ca91165b5c0a",
   "metadata": {},
   "outputs": [],
   "source": []
  }
 ],
 "metadata": {
  "kernelspec": {
   "display_name": "Python 3 (ipykernel)",
   "language": "python",
   "name": "python3"
  },
  "language_info": {
   "codemirror_mode": {
    "name": "ipython",
    "version": 3
   },
   "file_extension": ".py",
   "mimetype": "text/x-python",
   "name": "python",
   "nbconvert_exporter": "python",
   "pygments_lexer": "ipython3",
   "version": "3.13.5"
  }
 },
 "nbformat": 4,
 "nbformat_minor": 5
}
