{
 "cells": [
  {
   "cell_type": "code",
   "execution_count": 1,
   "id": "103f131e-8bdd-43e9-a4b3-dab1b651b567",
   "metadata": {},
   "outputs": [
    {
     "name": "stdout",
     "output_type": "stream",
     "text": [
      "Number of lines in example.txt: 4\n"
     ]
    }
   ],
   "source": [
    "# 1. Set Python for PySpark to use the current Python interpreter\n",
    "import os\n",
    "import sys\n",
    "\n",
    "os.environ['PYSPARK_PYTHON'] = sys.executable\n",
    "os.environ['PYSPARK_DRIVER_PYTHON'] = sys.executable\n",
    "\n",
    "# 2. Import SparkSession and create it\n",
    "from pyspark.sql import SparkSession\n",
    "\n",
    "spark = SparkSession.builder.appName(\"MyPySparkApp\").master(\"local[*]\").getOrCreate()\n",
    "sc = spark.sparkContext   # use the existing SparkContext\n",
    "\n",
    "# 3. Create a sample text file\n",
    "with open(\"example.txt\", \"w\") as f:\n",
    "    f.write(\"\"\"first line\n",
    "second line\n",
    "third line\n",
    "fourth line\"\"\")\n",
    "\n",
    "# 4. Read the text file using Spark\n",
    "textFile = sc.textFile(\"example.txt\")\n",
    "\n",
    "# 5. Count lines\n",
    "print(\"Number of lines in example.txt:\", textFile.count())\n"
   ]
  },
  {
   "cell_type": "code",
   "execution_count": 1,
   "id": "77836603-6b17-46e4-a2d7-b68157e37052",
   "metadata": {},
   "outputs": [],
   "source": [
    "from pyspark import SparkContext"
   ]
  },
  {
   "cell_type": "code",
   "execution_count": 2,
   "id": "08b0742d-749d-498c-9dbf-d3f6e3c99e0f",
   "metadata": {},
   "outputs": [],
   "source": [
    "sc= SparkContext()"
   ]
  },
  {
   "cell_type": "code",
   "execution_count": 3,
   "id": "4bc15e4d-3f7b-425f-b66b-d1fd22f9743d",
   "metadata": {},
   "outputs": [
    {
     "name": "stdout",
     "output_type": "stream",
     "text": [
      "Overwriting example.txt\n"
     ]
    }
   ],
   "source": [
    "%%writefile example.txt\n",
    "first line\n",
    "second line\n",
    "third line\n",
    "fourth line\n"
   ]
  },
  {
   "cell_type": "code",
   "execution_count": 4,
   "id": "a910da54-5054-4538-83a9-a5c52d4d9648",
   "metadata": {},
   "outputs": [],
   "source": [
    "textFile = sc.textFile ('example.txt')"
   ]
  },
  {
   "cell_type": "code",
   "execution_count": null,
   "id": "f42c7d1e-16eb-463e-a6d9-65250784d3e8",
   "metadata": {},
   "outputs": [],
   "source": [
    "textFile.count()\n",
    "#4"
   ]
  },
  {
   "cell_type": "code",
   "execution_count": 2,
   "id": "3b4af1e5-e756-4b91-88b2-0fa202e4bf64",
   "metadata": {},
   "outputs": [
    {
     "data": {
      "text/plain": [
       "'first line'"
      ]
     },
     "execution_count": 2,
     "metadata": {},
     "output_type": "execute_result"
    }
   ],
   "source": [
    "textFile.first()\n",
    "#'first line'"
   ]
  },
  {
   "cell_type": "code",
   "execution_count": null,
   "id": "fd11bfc4-22e8-4d6e-bf90-f30fe69af1c1",
   "metadata": {},
   "outputs": [],
   "source": [
    "textFile.first()\n",
    "#'first line'"
   ]
  },
  {
   "cell_type": "code",
   "execution_count": 4,
   "id": "8b883ceb-562a-4d7f-970b-d021cecae730",
   "metadata": {},
   "outputs": [],
   "source": [
    "secfind = textFile.filter(lambda line: 'second' in line)"
   ]
  },
  {
   "cell_type": "code",
   "execution_count": 5,
   "id": "7d6da853-86e1-49c1-8b97-e36f7220b93e",
   "metadata": {},
   "outputs": [
    {
     "data": {
      "text/plain": [
       "PythonRDD[4] at RDD at PythonRDD.scala:56"
      ]
     },
     "execution_count": 5,
     "metadata": {},
     "output_type": "execute_result"
    }
   ],
   "source": [
    "secfind\n",
    "#PythonRDD[4] at RDD at PythonRDD.scala:43"
   ]
  },
  {
   "cell_type": "code",
   "execution_count": 6,
   "id": "0046f15c-81be-49aa-8e72-556684737c37",
   "metadata": {},
   "outputs": [
    {
     "data": {
      "text/plain": [
       "['second line']"
      ]
     },
     "execution_count": 6,
     "metadata": {},
     "output_type": "execute_result"
    }
   ],
   "source": [
    "secfind.collect()\n",
    "#['second line']"
   ]
  },
  {
   "cell_type": "code",
   "execution_count": 7,
   "id": "887f326d-e36c-4a49-ae79-4beb6b443558",
   "metadata": {},
   "outputs": [
    {
     "data": {
      "text/plain": [
       "1"
      ]
     },
     "execution_count": 7,
     "metadata": {},
     "output_type": "execute_result"
    }
   ],
   "source": [
    "secfind.count()\n",
    "#1"
   ]
  },
  {
   "cell_type": "code",
   "execution_count": null,
   "id": "d2c1e6e9-57d3-41a8-9331-9f29eaced5b3",
   "metadata": {},
   "outputs": [],
   "source": []
  }
 ],
 "metadata": {
  "kernelspec": {
   "display_name": "Python 3 (ipykernel)",
   "language": "python",
   "name": "python3"
  },
  "language_info": {
   "codemirror_mode": {
    "name": "ipython",
    "version": 3
   },
   "file_extension": ".py",
   "mimetype": "text/x-python",
   "name": "python",
   "nbconvert_exporter": "python",
   "pygments_lexer": "ipython3",
   "version": "3.11.13"
  }
 },
 "nbformat": 4,
 "nbformat_minor": 5
}
